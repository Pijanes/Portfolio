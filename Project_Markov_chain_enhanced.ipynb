{
 "cells": [
  {
   "cell_type": "code",
   "execution_count": 1,
   "metadata": {},
   "outputs": [],
   "source": [
    "import os\n",
    "import pandas as pd"
   ]
  },
  {
   "cell_type": "code",
   "execution_count": 2,
   "metadata": {},
   "outputs": [],
   "source": [
    "df_monday= pd.read_csv('monday.csv',sep=';', header=0, parse_dates=True)\n",
    "df_tuesday= pd.read_csv('tuesday.csv',sep=';', header=0, parse_dates=True)\n",
    "df_wednesday= pd.read_csv('wednesday.csv',sep=';', header=0, parse_dates=True)\n",
    "df_thursday= pd.read_csv('thursday.csv',sep=';', header=0, parse_dates=True)\n",
    "df_friday= pd.read_csv('friday.csv',sep=';', header=0, parse_dates=True)"
   ]
  },
  {
   "cell_type": "code",
   "execution_count": 3,
   "metadata": {},
   "outputs": [],
   "source": [
    "def add_day(df,day):\n",
    "    df[\"day\"]= day\n",
    "    df[\"timestamp\"]=pd.to_datetime(df['timestamp'])"
   ]
  },
  {
   "cell_type": "code",
   "execution_count": 4,
   "metadata": {},
   "outputs": [],
   "source": [
    "add_day(df_monday,'monday')\n",
    "add_day(df_tuesday, 'tuesday')\n",
    "add_day(df_wednesday, 'wednesday')\n",
    "add_day(df_thursday, 'thursday')\n",
    "add_day(df_friday, 'friday')"
   ]
  },
  {
   "cell_type": "code",
   "execution_count": 5,
   "metadata": {},
   "outputs": [],
   "source": [
    "def add_customer_no(df,suffix):\n",
    "    df[\"customer_no_day\"]=(df[\"customer_no\"]).astype(str) + str(suffix)"
   ]
  },
  {
   "cell_type": "code",
   "execution_count": 6,
   "metadata": {},
   "outputs": [],
   "source": [
    "add_customer_no(df_monday, 'm')\n",
    "add_customer_no(df_tuesday,'tu')\n",
    "add_customer_no(df_wednesday,'w')\n",
    "add_customer_no(df_thursday,'th')\n",
    "add_customer_no(df_friday,'f')"
   ]
  },
  {
   "cell_type": "code",
   "execution_count": 7,
   "metadata": {},
   "outputs": [],
   "source": [
    "pdList = [df_monday, df_tuesday, df_wednesday,df_thursday,df_friday]  # List of your dataframes\n",
    "combo = pd.concat(pdList)"
   ]
  },
  {
   "cell_type": "code",
   "execution_count": 9,
   "metadata": {},
   "outputs": [
    {
     "data": {
      "text/html": [
       "<div>\n",
       "<style scoped>\n",
       "    .dataframe tbody tr th:only-of-type {\n",
       "        vertical-align: middle;\n",
       "    }\n",
       "\n",
       "    .dataframe tbody tr th {\n",
       "        vertical-align: top;\n",
       "    }\n",
       "\n",
       "    .dataframe thead th {\n",
       "        text-align: right;\n",
       "    }\n",
       "</style>\n",
       "<table border=\"1\" class=\"dataframe\">\n",
       "  <thead>\n",
       "    <tr style=\"text-align: right;\">\n",
       "      <th></th>\n",
       "      <th>timestamp</th>\n",
       "      <th>customer_no</th>\n",
       "      <th>location</th>\n",
       "      <th>day</th>\n",
       "      <th>customer_no_day</th>\n",
       "    </tr>\n",
       "  </thead>\n",
       "  <tbody>\n",
       "    <tr>\n",
       "      <th>0</th>\n",
       "      <td>2019-09-02 07:03:00</td>\n",
       "      <td>1</td>\n",
       "      <td>dairy</td>\n",
       "      <td>monday</td>\n",
       "      <td>1m</td>\n",
       "    </tr>\n",
       "    <tr>\n",
       "      <th>1</th>\n",
       "      <td>2019-09-02 07:03:00</td>\n",
       "      <td>2</td>\n",
       "      <td>dairy</td>\n",
       "      <td>monday</td>\n",
       "      <td>2m</td>\n",
       "    </tr>\n",
       "    <tr>\n",
       "      <th>2</th>\n",
       "      <td>2019-09-02 07:04:00</td>\n",
       "      <td>3</td>\n",
       "      <td>dairy</td>\n",
       "      <td>monday</td>\n",
       "      <td>3m</td>\n",
       "    </tr>\n",
       "    <tr>\n",
       "      <th>3</th>\n",
       "      <td>2019-09-02 07:04:00</td>\n",
       "      <td>4</td>\n",
       "      <td>dairy</td>\n",
       "      <td>monday</td>\n",
       "      <td>4m</td>\n",
       "    </tr>\n",
       "    <tr>\n",
       "      <th>4</th>\n",
       "      <td>2019-09-02 07:04:00</td>\n",
       "      <td>5</td>\n",
       "      <td>spices</td>\n",
       "      <td>monday</td>\n",
       "      <td>5m</td>\n",
       "    </tr>\n",
       "    <tr>\n",
       "      <th>...</th>\n",
       "      <td>...</td>\n",
       "      <td>...</td>\n",
       "      <td>...</td>\n",
       "      <td>...</td>\n",
       "      <td>...</td>\n",
       "    </tr>\n",
       "    <tr>\n",
       "      <th>5120</th>\n",
       "      <td>2019-09-06 21:50:00</td>\n",
       "      <td>1500</td>\n",
       "      <td>dairy</td>\n",
       "      <td>friday</td>\n",
       "      <td>1500f</td>\n",
       "    </tr>\n",
       "    <tr>\n",
       "      <th>5121</th>\n",
       "      <td>2019-09-06 21:50:00</td>\n",
       "      <td>1507</td>\n",
       "      <td>checkout</td>\n",
       "      <td>friday</td>\n",
       "      <td>1507f</td>\n",
       "    </tr>\n",
       "    <tr>\n",
       "      <th>5122</th>\n",
       "      <td>2019-09-06 21:50:00</td>\n",
       "      <td>1508</td>\n",
       "      <td>checkout</td>\n",
       "      <td>friday</td>\n",
       "      <td>1508f</td>\n",
       "    </tr>\n",
       "    <tr>\n",
       "      <th>5123</th>\n",
       "      <td>2019-09-06 21:50:00</td>\n",
       "      <td>1509</td>\n",
       "      <td>drinks</td>\n",
       "      <td>friday</td>\n",
       "      <td>1509f</td>\n",
       "    </tr>\n",
       "    <tr>\n",
       "      <th>5124</th>\n",
       "      <td>2019-09-06 21:50:00</td>\n",
       "      <td>1510</td>\n",
       "      <td>spices</td>\n",
       "      <td>friday</td>\n",
       "      <td>1510f</td>\n",
       "    </tr>\n",
       "  </tbody>\n",
       "</table>\n",
       "<p>24877 rows × 5 columns</p>\n",
       "</div>"
      ],
      "text/plain": [
       "               timestamp  customer_no  location     day customer_no_day\n",
       "0    2019-09-02 07:03:00            1     dairy  monday              1m\n",
       "1    2019-09-02 07:03:00            2     dairy  monday              2m\n",
       "2    2019-09-02 07:04:00            3     dairy  monday              3m\n",
       "3    2019-09-02 07:04:00            4     dairy  monday              4m\n",
       "4    2019-09-02 07:04:00            5    spices  monday              5m\n",
       "...                  ...          ...       ...     ...             ...\n",
       "5120 2019-09-06 21:50:00         1500     dairy  friday           1500f\n",
       "5121 2019-09-06 21:50:00         1507  checkout  friday           1507f\n",
       "5122 2019-09-06 21:50:00         1508  checkout  friday           1508f\n",
       "5123 2019-09-06 21:50:00         1509    drinks  friday           1509f\n",
       "5124 2019-09-06 21:50:00         1510    spices  friday           1510f\n",
       "\n",
       "[24877 rows x 5 columns]"
      ]
     },
     "execution_count": 9,
     "metadata": {},
     "output_type": "execute_result"
    }
   ],
   "source": [
    "df_week=combo.copy()\n",
    "df_week"
   ]
  },
  {
   "cell_type": "code",
   "execution_count": 13,
   "metadata": {},
   "outputs": [
    {
     "name": "stdout",
     "output_type": "stream",
     "text": [
      "<class 'pandas.core.frame.DataFrame'>\n",
      "Int64Index: 24877 entries, 0 to 5124\n",
      "Data columns (total 5 columns):\n",
      " #   Column           Non-Null Count  Dtype         \n",
      "---  ------           --------------  -----         \n",
      " 0   timestamp        24877 non-null  datetime64[ns]\n",
      " 1   customer_no      24877 non-null  int64         \n",
      " 2   location         24877 non-null  object        \n",
      " 3   day              24877 non-null  object        \n",
      " 4   customer_no_day  24877 non-null  object        \n",
      "dtypes: datetime64[ns](1), int64(1), object(3)\n",
      "memory usage: 1.1+ MB\n"
     ]
    }
   ],
   "source": [
    "df_week.info()"
   ]
  },
  {
   "cell_type": "code",
   "execution_count": 14,
   "metadata": {},
   "outputs": [
    {
     "name": "stdout",
     "output_type": "stream",
     "text": [
      "['dairy' 'spices' 'fruit' 'checkout' 'drinks']\n",
      "location\n",
      "checkout    [1m, 5m, 2m, 3m, 8m, 4m, 10m, 11m, 14m, 12m, 1...\n",
      "dairy       [1m, 2m, 3m, 4m, 6m, 9m, 13m, 16m, 18m, 22m, 2...\n",
      "drinks      [7m, 11m, 12m, 20m, 19m, 21m, 24m, 28m, 29m, 3...\n",
      "fruit       [8m, 10m, 14m, 15m, 7m, 17m, 9m, 18m, 22m, 23m...\n",
      "spices      [5m, 6m, 7m, 12m, 15m, 16m, 19m, 13m, 21m, 25m...\n",
      "Name: customer_no_day, dtype: object\n",
      "location\n",
      "checkout    7417\n",
      "dairy       4679\n",
      "drinks      3905\n",
      "fruit       5122\n",
      "spices      3754\n",
      "Name: customer_no_day, dtype: int64\n"
     ]
    }
   ],
   "source": [
    "#Calculate the total number of customers in each section\n",
    "print(df_week['location'].unique())\n",
    "print(df_week.groupby('location')['customer_no_day'].unique())\n",
    "print(df_week.groupby('location')['customer_no_day'].count())"
   ]
  },
  {
   "cell_type": "code",
   "execution_count": 15,
   "metadata": {},
   "outputs": [
    {
     "data": {
      "text/plain": [
       "timestamp            location\n",
       "2019-09-02 07:03:00  dairy       2\n",
       "2019-09-02 07:04:00  dairy       2\n",
       "                     fruit       1\n",
       "                     spices      3\n",
       "2019-09-02 07:05:00  checkout    2\n",
       "                                ..\n",
       "2019-09-06 21:50:00  checkout    2\n",
       "                     dairy       1\n",
       "                     drinks      1\n",
       "                     fruit       1\n",
       "                     spices      1\n",
       "Name: customer_no_day, Length: 13839, dtype: int64"
      ]
     },
     "execution_count": 15,
     "metadata": {},
     "output_type": "execute_result"
    }
   ],
   "source": [
    "#Calculate the total number of customers in each section over time\n",
    "df_week.groupby(['timestamp','location'])['customer_no_day'].count()"
   ]
  },
  {
   "cell_type": "code",
   "execution_count": 16,
   "metadata": {},
   "outputs": [
    {
     "data": {
      "text/plain": [
       "timestamp\n",
       "2019-09-02 07:05:00    2\n",
       "2019-09-02 07:06:00    2\n",
       "2019-09-02 07:07:00    1\n",
       "2019-09-02 07:08:00    3\n",
       "2019-09-02 07:09:00    1\n",
       "                      ..\n",
       "2019-09-06 21:37:00    1\n",
       "2019-09-06 21:45:00    1\n",
       "2019-09-06 21:47:00    2\n",
       "2019-09-06 21:48:00    2\n",
       "2019-09-06 21:50:00    2\n",
       "Name: customer_no_day, Length: 3460, dtype: int64"
      ]
     },
     "execution_count": 16,
     "metadata": {},
     "output_type": "execute_result"
    }
   ],
   "source": [
    "#Display the number of customers at checkout over time\n",
    "df_week.loc[df_week[\"location\"] == \"checkout\"].groupby('timestamp')['customer_no_day'].count()"
   ]
  },
  {
   "cell_type": "code",
   "execution_count": 18,
   "metadata": {},
   "outputs": [
    {
     "name": "stdout",
     "output_type": "stream",
     "text": [
      "                            max\n",
      "customer_no                    \n",
      "1           2019-09-02 07:05:00\n",
      "2           2019-09-02 07:06:00\n",
      "3           2019-09-02 07:06:00\n",
      "4           2019-09-02 07:08:00\n",
      "5           2019-09-02 07:05:00\n",
      "                            min\n",
      "customer_no                    \n",
      "1           2019-09-02 07:03:00\n",
      "2           2019-09-02 07:03:00\n",
      "3           2019-09-02 07:04:00\n",
      "4           2019-09-02 07:04:00\n",
      "5           2019-09-02 07:04:00\n"
     ]
    },
    {
     "data": {
      "text/plain": [
       "customer_no\n",
       "1      00:03:00\n",
       "2      00:06:00\n",
       "3      00:13:00\n",
       "4      00:08:00\n",
       "5      00:11:00\n",
       "         ...   \n",
       "1443   00:00:00\n",
       "1444   00:00:00\n",
       "1445   00:00:00\n",
       "1446   00:00:00\n",
       "1447   00:00:00\n",
       "Name: time_spent, Length: 1447, dtype: timedelta64[ns]"
      ]
     },
     "execution_count": 18,
     "metadata": {},
     "output_type": "execute_result"
    }
   ],
   "source": [
    "#Calculate the time each customer spent in the market\n",
    "date_min = df_monday.groupby('customer_no')['timestamp'].agg(['min'])\n",
    "date_max = df_monday.groupby('customer_no')['timestamp'].agg(['max'])\n",
    "date_min['min'] = pd.to_datetime(date_min['min'])\n",
    "date_max['max'] = pd.to_datetime(date_max['max'])\n",
    "print(date_max.head())\n",
    "print(date_min.head())\n",
    "df_monday['time_spent']=date_max['max']-date_min['min']\n",
    "# date_max hat keine Kolumne max\n",
    "df_monday.groupby(['customer_no'])['time_spent'].sum()"
   ]
  },
  {
   "cell_type": "code",
   "execution_count": 19,
   "metadata": {},
   "outputs": [
    {
     "data": {
      "text/plain": [
       "timestamp\n",
       "2019-09-02 07:03:00    2\n",
       "2019-09-02 07:04:00    6\n",
       "2019-09-02 07:05:00    4\n",
       "2019-09-02 07:06:00    8\n",
       "2019-09-02 07:07:00    4\n",
       "                      ..\n",
       "2019-09-06 21:46:00    5\n",
       "2019-09-06 21:47:00    4\n",
       "2019-09-06 21:48:00    7\n",
       "2019-09-06 21:49:00    4\n",
       "2019-09-06 21:50:00    6\n",
       "Name: customer_no, Length: 4363, dtype: int64"
      ]
     },
     "execution_count": 19,
     "metadata": {},
     "output_type": "execute_result"
    }
   ],
   "source": [
    "#Calculate the total number of customers present in the supermarket over time.\n",
    "df_week.groupby(['timestamp'])['customer_no'].count()"
   ]
  },
  {
   "cell_type": "code",
   "execution_count": 24,
   "metadata": {},
   "outputs": [
    {
     "data": {
      "text/html": [
       "<div>\n",
       "<style scoped>\n",
       "    .dataframe tbody tr th:only-of-type {\n",
       "        vertical-align: middle;\n",
       "    }\n",
       "\n",
       "    .dataframe tbody tr th {\n",
       "        vertical-align: top;\n",
       "    }\n",
       "\n",
       "    .dataframe thead th {\n",
       "        text-align: right;\n",
       "    }\n",
       "</style>\n",
       "<table border=\"1\" class=\"dataframe\">\n",
       "  <thead>\n",
       "    <tr style=\"text-align: right;\">\n",
       "      <th></th>\n",
       "      <th>timestamp</th>\n",
       "      <th>customer_no</th>\n",
       "      <th>location</th>\n",
       "      <th>day</th>\n",
       "      <th>customer_no_day</th>\n",
       "      <th>time_spent</th>\n",
       "      <th>first_section</th>\n",
       "      <th>time_spent_min</th>\n",
       "    </tr>\n",
       "  </thead>\n",
       "  <tbody>\n",
       "    <tr>\n",
       "      <th>0</th>\n",
       "      <td>2019-09-02 07:03:00</td>\n",
       "      <td>1</td>\n",
       "      <td>dairy</td>\n",
       "      <td>monday</td>\n",
       "      <td>1m</td>\n",
       "      <td>NaT</td>\n",
       "      <td>dairy</td>\n",
       "      <td>NaN</td>\n",
       "    </tr>\n",
       "    <tr>\n",
       "      <th>1</th>\n",
       "      <td>2019-09-02 07:03:00</td>\n",
       "      <td>2</td>\n",
       "      <td>dairy</td>\n",
       "      <td>monday</td>\n",
       "      <td>2m</td>\n",
       "      <td>00:02:00</td>\n",
       "      <td>dairy</td>\n",
       "      <td>2.0</td>\n",
       "    </tr>\n",
       "    <tr>\n",
       "      <th>2</th>\n",
       "      <td>2019-09-02 07:04:00</td>\n",
       "      <td>3</td>\n",
       "      <td>dairy</td>\n",
       "      <td>monday</td>\n",
       "      <td>3m</td>\n",
       "      <td>00:03:00</td>\n",
       "      <td>dairy</td>\n",
       "      <td>3.0</td>\n",
       "    </tr>\n",
       "    <tr>\n",
       "      <th>3</th>\n",
       "      <td>2019-09-02 07:04:00</td>\n",
       "      <td>4</td>\n",
       "      <td>dairy</td>\n",
       "      <td>monday</td>\n",
       "      <td>4m</td>\n",
       "      <td>00:02:00</td>\n",
       "      <td>dairy</td>\n",
       "      <td>2.0</td>\n",
       "    </tr>\n",
       "    <tr>\n",
       "      <th>4</th>\n",
       "      <td>2019-09-02 07:04:00</td>\n",
       "      <td>5</td>\n",
       "      <td>spices</td>\n",
       "      <td>monday</td>\n",
       "      <td>5m</td>\n",
       "      <td>00:04:00</td>\n",
       "      <td>spices</td>\n",
       "      <td>4.0</td>\n",
       "    </tr>\n",
       "    <tr>\n",
       "      <th>...</th>\n",
       "      <td>...</td>\n",
       "      <td>...</td>\n",
       "      <td>...</td>\n",
       "      <td>...</td>\n",
       "      <td>...</td>\n",
       "      <td>...</td>\n",
       "      <td>...</td>\n",
       "      <td>...</td>\n",
       "    </tr>\n",
       "    <tr>\n",
       "      <th>4879</th>\n",
       "      <td>2019-09-02 21:49:00</td>\n",
       "      <td>1442</td>\n",
       "      <td>checkout</td>\n",
       "      <td>monday</td>\n",
       "      <td>1442m</td>\n",
       "      <td>NaT</td>\n",
       "      <td>checkout</td>\n",
       "      <td>NaN</td>\n",
       "    </tr>\n",
       "    <tr>\n",
       "      <th>4880</th>\n",
       "      <td>2019-09-02 21:49:00</td>\n",
       "      <td>1444</td>\n",
       "      <td>checkout</td>\n",
       "      <td>monday</td>\n",
       "      <td>1444m</td>\n",
       "      <td>NaT</td>\n",
       "      <td>checkout</td>\n",
       "      <td>NaN</td>\n",
       "    </tr>\n",
       "    <tr>\n",
       "      <th>4881</th>\n",
       "      <td>2019-09-02 21:49:00</td>\n",
       "      <td>1445</td>\n",
       "      <td>dairy</td>\n",
       "      <td>monday</td>\n",
       "      <td>1445m</td>\n",
       "      <td>NaT</td>\n",
       "      <td>dairy</td>\n",
       "      <td>NaN</td>\n",
       "    </tr>\n",
       "    <tr>\n",
       "      <th>4882</th>\n",
       "      <td>2019-09-02 21:50:00</td>\n",
       "      <td>1446</td>\n",
       "      <td>dairy</td>\n",
       "      <td>monday</td>\n",
       "      <td>1446m</td>\n",
       "      <td>NaT</td>\n",
       "      <td>dairy</td>\n",
       "      <td>NaN</td>\n",
       "    </tr>\n",
       "    <tr>\n",
       "      <th>4883</th>\n",
       "      <td>2019-09-02 21:50:00</td>\n",
       "      <td>1447</td>\n",
       "      <td>fruit</td>\n",
       "      <td>monday</td>\n",
       "      <td>1447m</td>\n",
       "      <td>NaT</td>\n",
       "      <td>fruit</td>\n",
       "      <td>NaN</td>\n",
       "    </tr>\n",
       "  </tbody>\n",
       "</table>\n",
       "<p>4884 rows × 8 columns</p>\n",
       "</div>"
      ],
      "text/plain": [
       "               timestamp  customer_no  location     day customer_no_day  \\\n",
       "0    2019-09-02 07:03:00            1     dairy  monday              1m   \n",
       "1    2019-09-02 07:03:00            2     dairy  monday              2m   \n",
       "2    2019-09-02 07:04:00            3     dairy  monday              3m   \n",
       "3    2019-09-02 07:04:00            4     dairy  monday              4m   \n",
       "4    2019-09-02 07:04:00            5    spices  monday              5m   \n",
       "...                  ...          ...       ...     ...             ...   \n",
       "4879 2019-09-02 21:49:00         1442  checkout  monday           1442m   \n",
       "4880 2019-09-02 21:49:00         1444  checkout  monday           1444m   \n",
       "4881 2019-09-02 21:49:00         1445     dairy  monday           1445m   \n",
       "4882 2019-09-02 21:50:00         1446     dairy  monday           1446m   \n",
       "4883 2019-09-02 21:50:00         1447     fruit  monday           1447m   \n",
       "\n",
       "     time_spent first_section  time_spent_min  \n",
       "0           NaT         dairy             NaN  \n",
       "1      00:02:00         dairy             2.0  \n",
       "2      00:03:00         dairy             3.0  \n",
       "3      00:02:00         dairy             2.0  \n",
       "4      00:04:00        spices             4.0  \n",
       "...         ...           ...             ...  \n",
       "4879        NaT      checkout             NaN  \n",
       "4880        NaT      checkout             NaN  \n",
       "4881        NaT         dairy             NaN  \n",
       "4882        NaT         dairy             NaN  \n",
       "4883        NaT         fruit             NaN  \n",
       "\n",
       "[4884 rows x 8 columns]"
      ]
     },
     "execution_count": 24,
     "metadata": {},
     "output_type": "execute_result"
    }
   ],
   "source": [
    "#Our business managers think that the first section customers visit follows a different pattern \n",
    "#than the following ones. Plot the distribution of customers of their first visited section \n",
    "#versus following sections \n",
    "#(treat all sections visited after the first as “following”)\n",
    "\n",
    "date_min= df_monday.groupby(['customer_no','location'])['timestamp'].agg(['min'])\n",
    "date_min['min'] = pd.to_datetime(date_min['min'])\n",
    "df_monday['first_section']=df_monday.groupby(['customer_no','timestamp'])['location'].transform('min')\n",
    "df_monday['time_spent_min']=df_monday['time_spent'].astype('timedelta64[m]')\n",
    "df_monday"
   ]
  },
  {
   "cell_type": "code",
   "execution_count": 25,
   "metadata": {},
   "outputs": [
    {
     "data": {
      "text/plain": [
       "<matplotlib.axes._subplots.AxesSubplot at 0x23d17c86ec8>"
      ]
     },
     "execution_count": 25,
     "metadata": {},
     "output_type": "execute_result"
    },
    {
     "data": {
      "image/png": "[encoded data removed]",
      "text/plain": [
       "<Figure size 432x288 with 1 Axes>"
      ]
     },
     "metadata": {
      "needs_background": "light"
     },
     "output_type": "display_data"
    }
   ],
   "source": [
    "import seaborn as sns\n",
    "sns.scatterplot(x='customer_no',y='time_spent_min',data=df_monday, hue='first_section')"
   ]
  },
  {
   "cell_type": "code",
   "execution_count": 26,
   "metadata": {},
   "outputs": [
    {
     "data": {
      "text/plain": [
       "<seaborn.axisgrid.PairGrid at 0x23d17d84688>"
      ]
     },
     "execution_count": 26,
     "metadata": {},
     "output_type": "execute_result"
    },
    {
     "data": {
      "image/png": "[encoded data removed]",
      "text/plain": [
       "<Figure size 441.5x360 with 6 Axes>"
      ]
     },
     "metadata": {
      "needs_background": "light"
     },
     "output_type": "display_data"
    }
   ],
   "source": [
    "sns.pairplot(df_monday, hue=\"first_section\")"
   ]
  },
  {
   "cell_type": "code",
   "execution_count": 32,
   "metadata": {},
   "outputs": [],
   "source": [
    "df_hist=df_monday.groupby(['customer_no','first_section'])['time_spent_min'].agg(['sum'])"
   ]
  },
  {
   "cell_type": "code",
   "execution_count": 37,
   "metadata": {},
   "outputs": [
    {
     "data": {
      "text/html": [
       "<div>\n",
       "<style scoped>\n",
       "    .dataframe tbody tr th:only-of-type {\n",
       "        vertical-align: middle;\n",
       "    }\n",
       "\n",
       "    .dataframe tbody tr th {\n",
       "        vertical-align: top;\n",
       "    }\n",
       "\n",
       "    .dataframe thead th {\n",
       "        text-align: right;\n",
       "    }\n",
       "</style>\n",
       "<table border=\"1\" class=\"dataframe\">\n",
       "  <thead>\n",
       "    <tr style=\"text-align: right;\">\n",
       "      <th></th>\n",
       "      <th>index</th>\n",
       "      <th>customer_no</th>\n",
       "      <th>first_section</th>\n",
       "      <th>sum</th>\n",
       "    </tr>\n",
       "  </thead>\n",
       "  <tbody>\n",
       "    <tr>\n",
       "      <th>0</th>\n",
       "      <td>0</td>\n",
       "      <td>1</td>\n",
       "      <td>checkout</td>\n",
       "      <td>3.0</td>\n",
       "    </tr>\n",
       "    <tr>\n",
       "      <th>1</th>\n",
       "      <td>1</td>\n",
       "      <td>1</td>\n",
       "      <td>dairy</td>\n",
       "      <td>0.0</td>\n",
       "    </tr>\n",
       "    <tr>\n",
       "      <th>2</th>\n",
       "      <td>2</td>\n",
       "      <td>2</td>\n",
       "      <td>checkout</td>\n",
       "      <td>4.0</td>\n",
       "    </tr>\n",
       "    <tr>\n",
       "      <th>3</th>\n",
       "      <td>3</td>\n",
       "      <td>2</td>\n",
       "      <td>dairy</td>\n",
       "      <td>2.0</td>\n",
       "    </tr>\n",
       "    <tr>\n",
       "      <th>4</th>\n",
       "      <td>4</td>\n",
       "      <td>3</td>\n",
       "      <td>checkout</td>\n",
       "      <td>10.0</td>\n",
       "    </tr>\n",
       "    <tr>\n",
       "      <th>...</th>\n",
       "      <td>...</td>\n",
       "      <td>...</td>\n",
       "      <td>...</td>\n",
       "      <td>...</td>\n",
       "    </tr>\n",
       "    <tr>\n",
       "      <th>4224</th>\n",
       "      <td>4224</td>\n",
       "      <td>1444</td>\n",
       "      <td>checkout</td>\n",
       "      <td>0.0</td>\n",
       "    </tr>\n",
       "    <tr>\n",
       "      <th>4225</th>\n",
       "      <td>4225</td>\n",
       "      <td>1444</td>\n",
       "      <td>spices</td>\n",
       "      <td>0.0</td>\n",
       "    </tr>\n",
       "    <tr>\n",
       "      <th>4226</th>\n",
       "      <td>4226</td>\n",
       "      <td>1445</td>\n",
       "      <td>dairy</td>\n",
       "      <td>0.0</td>\n",
       "    </tr>\n",
       "    <tr>\n",
       "      <th>4227</th>\n",
       "      <td>4227</td>\n",
       "      <td>1446</td>\n",
       "      <td>dairy</td>\n",
       "      <td>0.0</td>\n",
       "    </tr>\n",
       "    <tr>\n",
       "      <th>4228</th>\n",
       "      <td>4228</td>\n",
       "      <td>1447</td>\n",
       "      <td>fruit</td>\n",
       "      <td>0.0</td>\n",
       "    </tr>\n",
       "  </tbody>\n",
       "</table>\n",
       "<p>4229 rows × 4 columns</p>\n",
       "</div>"
      ],
      "text/plain": [
       "      index  customer_no first_section   sum\n",
       "0         0            1      checkout   3.0\n",
       "1         1            1         dairy   0.0\n",
       "2         2            2      checkout   4.0\n",
       "3         3            2         dairy   2.0\n",
       "4         4            3      checkout  10.0\n",
       "...     ...          ...           ...   ...\n",
       "4224   4224         1444      checkout   0.0\n",
       "4225   4225         1444        spices   0.0\n",
       "4226   4226         1445         dairy   0.0\n",
       "4227   4227         1446         dairy   0.0\n",
       "4228   4228         1447         fruit   0.0\n",
       "\n",
       "[4229 rows x 4 columns]"
      ]
     },
     "execution_count": 37,
     "metadata": {},
     "output_type": "execute_result"
    }
   ],
   "source": [
    "df_hist.reset_index(inplace=True)\n",
    "df_hist"
   ]
  },
  {
   "cell_type": "code",
   "execution_count": 39,
   "metadata": {},
   "outputs": [
    {
     "data": {
      "image/png": "[encoded data removed]",
      "text/plain": [
       "<Figure size 432x288 with 1 Axes>"
      ]
     },
     "metadata": {
      "needs_background": "light"
     },
     "output_type": "display_data"
    }
   ],
   "source": [
    "import matplotlib.pyplot as plt\n",
    "plt.bar(df_hist['first_section'], df_hist['sum'])\n",
    "#rects2 = ax.bar(df_hist['first_section'], df_hist['time_spent_min'])\n",
    "plt.show()"
   ]
  },
  {
   "cell_type": "markdown",
   "metadata": {},
   "source": [
    "### Markov Simulation"
   ]
  },
  {
   "cell_type": "code",
   "execution_count": 40,
   "metadata": {},
   "outputs": [
    {
     "data": {
      "text/html": [
       "<div>\n",
       "<style scoped>\n",
       "    .dataframe tbody tr th:only-of-type {\n",
       "        vertical-align: middle;\n",
       "    }\n",
       "\n",
       "    .dataframe tbody tr th {\n",
       "        vertical-align: top;\n",
       "    }\n",
       "\n",
       "    .dataframe thead th {\n",
       "        text-align: right;\n",
       "    }\n",
       "</style>\n",
       "<table border=\"1\" class=\"dataframe\">\n",
       "  <thead>\n",
       "    <tr style=\"text-align: right;\">\n",
       "      <th></th>\n",
       "      <th>timestamp</th>\n",
       "      <th>customer_no</th>\n",
       "      <th>location</th>\n",
       "      <th>day</th>\n",
       "      <th>customer_no_day</th>\n",
       "    </tr>\n",
       "  </thead>\n",
       "  <tbody>\n",
       "    <tr>\n",
       "      <th>0</th>\n",
       "      <td>2019-09-02 07:03:00</td>\n",
       "      <td>1</td>\n",
       "      <td>dairy</td>\n",
       "      <td>monday</td>\n",
       "      <td>1m</td>\n",
       "    </tr>\n",
       "    <tr>\n",
       "      <th>1</th>\n",
       "      <td>2019-09-02 07:03:00</td>\n",
       "      <td>2</td>\n",
       "      <td>dairy</td>\n",
       "      <td>monday</td>\n",
       "      <td>2m</td>\n",
       "    </tr>\n",
       "    <tr>\n",
       "      <th>2</th>\n",
       "      <td>2019-09-02 07:04:00</td>\n",
       "      <td>3</td>\n",
       "      <td>dairy</td>\n",
       "      <td>monday</td>\n",
       "      <td>3m</td>\n",
       "    </tr>\n",
       "    <tr>\n",
       "      <th>3</th>\n",
       "      <td>2019-09-02 07:04:00</td>\n",
       "      <td>4</td>\n",
       "      <td>dairy</td>\n",
       "      <td>monday</td>\n",
       "      <td>4m</td>\n",
       "    </tr>\n",
       "    <tr>\n",
       "      <th>4</th>\n",
       "      <td>2019-09-02 07:04:00</td>\n",
       "      <td>5</td>\n",
       "      <td>spices</td>\n",
       "      <td>monday</td>\n",
       "      <td>5m</td>\n",
       "    </tr>\n",
       "    <tr>\n",
       "      <th>...</th>\n",
       "      <td>...</td>\n",
       "      <td>...</td>\n",
       "      <td>...</td>\n",
       "      <td>...</td>\n",
       "      <td>...</td>\n",
       "    </tr>\n",
       "    <tr>\n",
       "      <th>5120</th>\n",
       "      <td>2019-09-06 21:50:00</td>\n",
       "      <td>1500</td>\n",
       "      <td>dairy</td>\n",
       "      <td>friday</td>\n",
       "      <td>1500f</td>\n",
       "    </tr>\n",
       "    <tr>\n",
       "      <th>5121</th>\n",
       "      <td>2019-09-06 21:50:00</td>\n",
       "      <td>1507</td>\n",
       "      <td>checkout</td>\n",
       "      <td>friday</td>\n",
       "      <td>1507f</td>\n",
       "    </tr>\n",
       "    <tr>\n",
       "      <th>5122</th>\n",
       "      <td>2019-09-06 21:50:00</td>\n",
       "      <td>1508</td>\n",
       "      <td>checkout</td>\n",
       "      <td>friday</td>\n",
       "      <td>1508f</td>\n",
       "    </tr>\n",
       "    <tr>\n",
       "      <th>5123</th>\n",
       "      <td>2019-09-06 21:50:00</td>\n",
       "      <td>1509</td>\n",
       "      <td>drinks</td>\n",
       "      <td>friday</td>\n",
       "      <td>1509f</td>\n",
       "    </tr>\n",
       "    <tr>\n",
       "      <th>5124</th>\n",
       "      <td>2019-09-06 21:50:00</td>\n",
       "      <td>1510</td>\n",
       "      <td>spices</td>\n",
       "      <td>friday</td>\n",
       "      <td>1510f</td>\n",
       "    </tr>\n",
       "  </tbody>\n",
       "</table>\n",
       "<p>24877 rows × 5 columns</p>\n",
       "</div>"
      ],
      "text/plain": [
       "               timestamp  customer_no  location     day customer_no_day\n",
       "0    2019-09-02 07:03:00            1     dairy  monday              1m\n",
       "1    2019-09-02 07:03:00            2     dairy  monday              2m\n",
       "2    2019-09-02 07:04:00            3     dairy  monday              3m\n",
       "3    2019-09-02 07:04:00            4     dairy  monday              4m\n",
       "4    2019-09-02 07:04:00            5    spices  monday              5m\n",
       "...                  ...          ...       ...     ...             ...\n",
       "5120 2019-09-06 21:50:00         1500     dairy  friday           1500f\n",
       "5121 2019-09-06 21:50:00         1507  checkout  friday           1507f\n",
       "5122 2019-09-06 21:50:00         1508  checkout  friday           1508f\n",
       "5123 2019-09-06 21:50:00         1509    drinks  friday           1509f\n",
       "5124 2019-09-06 21:50:00         1510    spices  friday           1510f\n",
       "\n",
       "[24877 rows x 5 columns]"
      ]
     },
     "execution_count": 40,
     "metadata": {},
     "output_type": "execute_result"
    }
   ],
   "source": [
    "combo"
   ]
  },
  {
   "cell_type": "code",
   "execution_count": 41,
   "metadata": {},
   "outputs": [],
   "source": [
    "combo['first_section']=combo.groupby(['customer_no','timestamp'])['location'].transform('min')"
   ]
  },
  {
   "cell_type": "code",
   "execution_count": 42,
   "metadata": {},
   "outputs": [
    {
     "data": {
      "text/html": [
       "<div>\n",
       "<style scoped>\n",
       "    .dataframe tbody tr th:only-of-type {\n",
       "        vertical-align: middle;\n",
       "    }\n",
       "\n",
       "    .dataframe tbody tr th {\n",
       "        vertical-align: top;\n",
       "    }\n",
       "\n",
       "    .dataframe thead th {\n",
       "        text-align: right;\n",
       "    }\n",
       "</style>\n",
       "<table border=\"1\" class=\"dataframe\">\n",
       "  <thead>\n",
       "    <tr style=\"text-align: right;\">\n",
       "      <th></th>\n",
       "      <th>timestamp</th>\n",
       "      <th>customer_no</th>\n",
       "      <th>location</th>\n",
       "      <th>day</th>\n",
       "      <th>customer_no_day</th>\n",
       "      <th>first_section</th>\n",
       "    </tr>\n",
       "  </thead>\n",
       "  <tbody>\n",
       "    <tr>\n",
       "      <th>0</th>\n",
       "      <td>2019-09-02 07:03:00</td>\n",
       "      <td>1</td>\n",
       "      <td>dairy</td>\n",
       "      <td>monday</td>\n",
       "      <td>1m</td>\n",
       "      <td>dairy</td>\n",
       "    </tr>\n",
       "    <tr>\n",
       "      <th>1</th>\n",
       "      <td>2019-09-02 07:03:00</td>\n",
       "      <td>2</td>\n",
       "      <td>dairy</td>\n",
       "      <td>monday</td>\n",
       "      <td>2m</td>\n",
       "      <td>dairy</td>\n",
       "    </tr>\n",
       "    <tr>\n",
       "      <th>2</th>\n",
       "      <td>2019-09-02 07:04:00</td>\n",
       "      <td>3</td>\n",
       "      <td>dairy</td>\n",
       "      <td>monday</td>\n",
       "      <td>3m</td>\n",
       "      <td>dairy</td>\n",
       "    </tr>\n",
       "    <tr>\n",
       "      <th>3</th>\n",
       "      <td>2019-09-02 07:04:00</td>\n",
       "      <td>4</td>\n",
       "      <td>dairy</td>\n",
       "      <td>monday</td>\n",
       "      <td>4m</td>\n",
       "      <td>dairy</td>\n",
       "    </tr>\n",
       "    <tr>\n",
       "      <th>4</th>\n",
       "      <td>2019-09-02 07:04:00</td>\n",
       "      <td>5</td>\n",
       "      <td>spices</td>\n",
       "      <td>monday</td>\n",
       "      <td>5m</td>\n",
       "      <td>spices</td>\n",
       "    </tr>\n",
       "    <tr>\n",
       "      <th>...</th>\n",
       "      <td>...</td>\n",
       "      <td>...</td>\n",
       "      <td>...</td>\n",
       "      <td>...</td>\n",
       "      <td>...</td>\n",
       "      <td>...</td>\n",
       "    </tr>\n",
       "    <tr>\n",
       "      <th>5120</th>\n",
       "      <td>2019-09-06 21:50:00</td>\n",
       "      <td>1500</td>\n",
       "      <td>dairy</td>\n",
       "      <td>friday</td>\n",
       "      <td>1500f</td>\n",
       "      <td>dairy</td>\n",
       "    </tr>\n",
       "    <tr>\n",
       "      <th>5121</th>\n",
       "      <td>2019-09-06 21:50:00</td>\n",
       "      <td>1507</td>\n",
       "      <td>checkout</td>\n",
       "      <td>friday</td>\n",
       "      <td>1507f</td>\n",
       "      <td>checkout</td>\n",
       "    </tr>\n",
       "    <tr>\n",
       "      <th>5122</th>\n",
       "      <td>2019-09-06 21:50:00</td>\n",
       "      <td>1508</td>\n",
       "      <td>checkout</td>\n",
       "      <td>friday</td>\n",
       "      <td>1508f</td>\n",
       "      <td>checkout</td>\n",
       "    </tr>\n",
       "    <tr>\n",
       "      <th>5123</th>\n",
       "      <td>2019-09-06 21:50:00</td>\n",
       "      <td>1509</td>\n",
       "      <td>drinks</td>\n",
       "      <td>friday</td>\n",
       "      <td>1509f</td>\n",
       "      <td>drinks</td>\n",
       "    </tr>\n",
       "    <tr>\n",
       "      <th>5124</th>\n",
       "      <td>2019-09-06 21:50:00</td>\n",
       "      <td>1510</td>\n",
       "      <td>spices</td>\n",
       "      <td>friday</td>\n",
       "      <td>1510f</td>\n",
       "      <td>spices</td>\n",
       "    </tr>\n",
       "  </tbody>\n",
       "</table>\n",
       "<p>24877 rows × 6 columns</p>\n",
       "</div>"
      ],
      "text/plain": [
       "               timestamp  customer_no  location     day customer_no_day  \\\n",
       "0    2019-09-02 07:03:00            1     dairy  monday              1m   \n",
       "1    2019-09-02 07:03:00            2     dairy  monday              2m   \n",
       "2    2019-09-02 07:04:00            3     dairy  monday              3m   \n",
       "3    2019-09-02 07:04:00            4     dairy  monday              4m   \n",
       "4    2019-09-02 07:04:00            5    spices  monday              5m   \n",
       "...                  ...          ...       ...     ...             ...   \n",
       "5120 2019-09-06 21:50:00         1500     dairy  friday           1500f   \n",
       "5121 2019-09-06 21:50:00         1507  checkout  friday           1507f   \n",
       "5122 2019-09-06 21:50:00         1508  checkout  friday           1508f   \n",
       "5123 2019-09-06 21:50:00         1509    drinks  friday           1509f   \n",
       "5124 2019-09-06 21:50:00         1510    spices  friday           1510f   \n",
       "\n",
       "     first_section  \n",
       "0            dairy  \n",
       "1            dairy  \n",
       "2            dairy  \n",
       "3            dairy  \n",
       "4           spices  \n",
       "...            ...  \n",
       "5120         dairy  \n",
       "5121      checkout  \n",
       "5122      checkout  \n",
       "5123        drinks  \n",
       "5124        spices  \n",
       "\n",
       "[24877 rows x 6 columns]"
      ]
     },
     "execution_count": 42,
     "metadata": {},
     "output_type": "execute_result"
    }
   ],
   "source": [
    "combo"
   ]
  },
  {
   "cell_type": "code",
   "execution_count": 43,
   "metadata": {},
   "outputs": [],
   "source": [
    "date_min= combo.groupby(['customer_no_day','location'])['timestamp'].agg(['min'])\n",
    "date_max= combo.groupby(['customer_no_day','location'])['timestamp'].agg(['max'])\n",
    "\n",
    "df_min=pd.DataFrame(date_min)\n",
    "df_max=pd.DataFrame(date_max)\n",
    "df_min['min'] = pd.to_datetime(date_min['min'])\n",
    "df_max['max'] = pd.to_datetime(date_max['max'])"
   ]
  },
  {
   "cell_type": "code",
   "execution_count": 44,
   "metadata": {},
   "outputs": [
    {
     "data": {
      "text/html": [
       "<div>\n",
       "<style scoped>\n",
       "    .dataframe tbody tr th:only-of-type {\n",
       "        vertical-align: middle;\n",
       "    }\n",
       "\n",
       "    .dataframe tbody tr th {\n",
       "        vertical-align: top;\n",
       "    }\n",
       "\n",
       "    .dataframe thead th {\n",
       "        text-align: right;\n",
       "    }\n",
       "</style>\n",
       "<table border=\"1\" class=\"dataframe\">\n",
       "  <thead>\n",
       "    <tr style=\"text-align: right;\">\n",
       "      <th></th>\n",
       "      <th>customer_no_day</th>\n",
       "      <th>location</th>\n",
       "      <th>max</th>\n",
       "      <th>min</th>\n",
       "    </tr>\n",
       "  </thead>\n",
       "  <tbody>\n",
       "    <tr>\n",
       "      <th>0</th>\n",
       "      <td>1000f</td>\n",
       "      <td>checkout</td>\n",
       "      <td>2019-09-06 17:20:00</td>\n",
       "      <td>2019-09-06 17:20:00</td>\n",
       "    </tr>\n",
       "    <tr>\n",
       "      <th>1</th>\n",
       "      <td>1000f</td>\n",
       "      <td>fruit</td>\n",
       "      <td>2019-09-06 17:19:00</td>\n",
       "      <td>2019-09-06 17:19:00</td>\n",
       "    </tr>\n",
       "    <tr>\n",
       "      <th>2</th>\n",
       "      <td>1000m</td>\n",
       "      <td>checkout</td>\n",
       "      <td>2019-09-02 17:51:00</td>\n",
       "      <td>2019-09-02 17:51:00</td>\n",
       "    </tr>\n",
       "    <tr>\n",
       "      <th>3</th>\n",
       "      <td>1000m</td>\n",
       "      <td>dairy</td>\n",
       "      <td>2019-09-02 17:44:00</td>\n",
       "      <td>2019-09-02 17:44:00</td>\n",
       "    </tr>\n",
       "    <tr>\n",
       "      <th>4</th>\n",
       "      <td>1000m</td>\n",
       "      <td>drinks</td>\n",
       "      <td>2019-09-02 17:50:00</td>\n",
       "      <td>2019-09-02 17:50:00</td>\n",
       "    </tr>\n",
       "    <tr>\n",
       "      <th>...</th>\n",
       "      <td>...</td>\n",
       "      <td>...</td>\n",
       "      <td>...</td>\n",
       "      <td>...</td>\n",
       "    </tr>\n",
       "    <tr>\n",
       "      <th>21666</th>\n",
       "      <td>9tu</td>\n",
       "      <td>checkout</td>\n",
       "      <td>2019-09-03 07:30:00</td>\n",
       "      <td>2019-09-03 07:30:00</td>\n",
       "    </tr>\n",
       "    <tr>\n",
       "      <th>21667</th>\n",
       "      <td>9tu</td>\n",
       "      <td>dairy</td>\n",
       "      <td>2019-09-03 07:23:00</td>\n",
       "      <td>2019-09-03 07:13:00</td>\n",
       "    </tr>\n",
       "    <tr>\n",
       "      <th>21668</th>\n",
       "      <td>9tu</td>\n",
       "      <td>fruit</td>\n",
       "      <td>2019-09-03 07:21:00</td>\n",
       "      <td>2019-09-03 07:10:00</td>\n",
       "    </tr>\n",
       "    <tr>\n",
       "      <th>21669</th>\n",
       "      <td>9w</td>\n",
       "      <td>checkout</td>\n",
       "      <td>2019-09-04 07:04:00</td>\n",
       "      <td>2019-09-04 07:04:00</td>\n",
       "    </tr>\n",
       "    <tr>\n",
       "      <th>21670</th>\n",
       "      <td>9w</td>\n",
       "      <td>spices</td>\n",
       "      <td>2019-09-04 07:03:00</td>\n",
       "      <td>2019-09-04 07:03:00</td>\n",
       "    </tr>\n",
       "  </tbody>\n",
       "</table>\n",
       "<p>21671 rows × 4 columns</p>\n",
       "</div>"
      ],
      "text/plain": [
       "      customer_no_day  location                 max                 min\n",
       "0               1000f  checkout 2019-09-06 17:20:00 2019-09-06 17:20:00\n",
       "1               1000f     fruit 2019-09-06 17:19:00 2019-09-06 17:19:00\n",
       "2               1000m  checkout 2019-09-02 17:51:00 2019-09-02 17:51:00\n",
       "3               1000m     dairy 2019-09-02 17:44:00 2019-09-02 17:44:00\n",
       "4               1000m    drinks 2019-09-02 17:50:00 2019-09-02 17:50:00\n",
       "...               ...       ...                 ...                 ...\n",
       "21666             9tu  checkout 2019-09-03 07:30:00 2019-09-03 07:30:00\n",
       "21667             9tu     dairy 2019-09-03 07:23:00 2019-09-03 07:13:00\n",
       "21668             9tu     fruit 2019-09-03 07:21:00 2019-09-03 07:10:00\n",
       "21669              9w  checkout 2019-09-04 07:04:00 2019-09-04 07:04:00\n",
       "21670              9w    spices 2019-09-04 07:03:00 2019-09-04 07:03:00\n",
       "\n",
       "[21671 rows x 4 columns]"
      ]
     },
     "execution_count": 44,
     "metadata": {},
     "output_type": "execute_result"
    }
   ],
   "source": [
    "dfm=date_max.join(date_min)\n",
    "dfm.reset_index(inplace=True)\n",
    "dfm"
   ]
  },
  {
   "cell_type": "code",
   "execution_count": 45,
   "metadata": {},
   "outputs": [],
   "source": [
    "dfm['customer_no_day']=dfm['customer_no_day'].astype(str)\n",
    "combo['customer_no_day']=combo['customer_no_day'].astype(str)"
   ]
  },
  {
   "cell_type": "code",
   "execution_count": 46,
   "metadata": {},
   "outputs": [
    {
     "data": {
      "text/plain": [
       "0          dairy\n",
       "1          dairy\n",
       "2          dairy\n",
       "3          dairy\n",
       "4         spices\n",
       "          ...   \n",
       "5120       dairy\n",
       "5121    checkout\n",
       "5122    checkout\n",
       "5123      drinks\n",
       "5124      spices\n",
       "Name: location, Length: 24877, dtype: object"
      ]
     },
     "execution_count": 46,
     "metadata": {},
     "output_type": "execute_result"
    }
   ],
   "source": [
    "combo.groupby(['first_section'])['location'].count()\n",
    "combo.groupby(['customer_no_day','timestamp'])['location'].transform('min')"
   ]
  },
  {
   "cell_type": "code",
   "execution_count": 47,
   "metadata": {},
   "outputs": [],
   "source": [
    "combo['next_loc']=combo['location'].shift(-1) "
   ]
  },
  {
   "cell_type": "code",
   "execution_count": 48,
   "metadata": {},
   "outputs": [
    {
     "data": {
      "text/html": [
       "<div>\n",
       "<style scoped>\n",
       "    .dataframe tbody tr th:only-of-type {\n",
       "        vertical-align: middle;\n",
       "    }\n",
       "\n",
       "    .dataframe tbody tr th {\n",
       "        vertical-align: top;\n",
       "    }\n",
       "\n",
       "    .dataframe thead th {\n",
       "        text-align: right;\n",
       "    }\n",
       "</style>\n",
       "<table border=\"1\" class=\"dataframe\">\n",
       "  <thead>\n",
       "    <tr style=\"text-align: right;\">\n",
       "      <th></th>\n",
       "      <th>timestamp</th>\n",
       "      <th>customer_no</th>\n",
       "      <th>location</th>\n",
       "      <th>day</th>\n",
       "      <th>first_section</th>\n",
       "      <th>next_loc</th>\n",
       "    </tr>\n",
       "    <tr>\n",
       "      <th>customer_no_day</th>\n",
       "      <th></th>\n",
       "      <th></th>\n",
       "      <th></th>\n",
       "      <th></th>\n",
       "      <th></th>\n",
       "      <th></th>\n",
       "    </tr>\n",
       "  </thead>\n",
       "  <tbody>\n",
       "    <tr>\n",
       "      <th>1m</th>\n",
       "      <td>2019-09-02 07:03:00</td>\n",
       "      <td>1</td>\n",
       "      <td>dairy</td>\n",
       "      <td>monday</td>\n",
       "      <td>dairy</td>\n",
       "      <td>dairy</td>\n",
       "    </tr>\n",
       "    <tr>\n",
       "      <th>2m</th>\n",
       "      <td>2019-09-02 07:03:00</td>\n",
       "      <td>2</td>\n",
       "      <td>dairy</td>\n",
       "      <td>monday</td>\n",
       "      <td>dairy</td>\n",
       "      <td>dairy</td>\n",
       "    </tr>\n",
       "    <tr>\n",
       "      <th>3m</th>\n",
       "      <td>2019-09-02 07:04:00</td>\n",
       "      <td>3</td>\n",
       "      <td>dairy</td>\n",
       "      <td>monday</td>\n",
       "      <td>dairy</td>\n",
       "      <td>dairy</td>\n",
       "    </tr>\n",
       "    <tr>\n",
       "      <th>4m</th>\n",
       "      <td>2019-09-02 07:04:00</td>\n",
       "      <td>4</td>\n",
       "      <td>dairy</td>\n",
       "      <td>monday</td>\n",
       "      <td>dairy</td>\n",
       "      <td>spices</td>\n",
       "    </tr>\n",
       "    <tr>\n",
       "      <th>5m</th>\n",
       "      <td>2019-09-02 07:04:00</td>\n",
       "      <td>5</td>\n",
       "      <td>spices</td>\n",
       "      <td>monday</td>\n",
       "      <td>spices</td>\n",
       "      <td>spices</td>\n",
       "    </tr>\n",
       "  </tbody>\n",
       "</table>\n",
       "</div>"
      ],
      "text/plain": [
       "                          timestamp  customer_no location     day  \\\n",
       "customer_no_day                                                     \n",
       "1m              2019-09-02 07:03:00            1    dairy  monday   \n",
       "2m              2019-09-02 07:03:00            2    dairy  monday   \n",
       "3m              2019-09-02 07:04:00            3    dairy  monday   \n",
       "4m              2019-09-02 07:04:00            4    dairy  monday   \n",
       "5m              2019-09-02 07:04:00            5   spices  monday   \n",
       "\n",
       "                first_section next_loc  \n",
       "customer_no_day                         \n",
       "1m                      dairy    dairy  \n",
       "2m                      dairy    dairy  \n",
       "3m                      dairy    dairy  \n",
       "4m                      dairy   spices  \n",
       "5m                     spices   spices  "
      ]
     },
     "execution_count": 48,
     "metadata": {},
     "output_type": "execute_result"
    }
   ],
   "source": [
    "combo_shift=combo.copy()\n",
    "combo_shift.set_index('customer_no_day', inplace=True)\n",
    "combo_shift.head()"
   ]
  },
  {
   "cell_type": "code",
   "execution_count": 49,
   "metadata": {},
   "outputs": [
    {
     "data": {
      "text/plain": [
       "customer_no_day  location\n",
       "1000f            checkout    1\n",
       "                 fruit       1\n",
       "1000m            checkout    1\n",
       "                 dairy       1\n",
       "                 drinks      1\n",
       "                            ..\n",
       "9tu              checkout    1\n",
       "                 dairy       2\n",
       "                 fruit       2\n",
       "9w               checkout    1\n",
       "                 spices      1\n",
       "Name: next_loc, Length: 21671, dtype: int64"
      ]
     },
     "execution_count": 49,
     "metadata": {},
     "output_type": "execute_result"
    }
   ],
   "source": [
    "combo.groupby(['customer_no_day','location'])['next_loc'].count()"
   ]
  },
  {
   "cell_type": "code",
   "execution_count": 50,
   "metadata": {},
   "outputs": [
    {
     "data": {
      "text/plain": [
       "customer_no_day  location  next_loc\n",
       "1000f            fruit     fruit       1\n",
       "1000tu           fruit     fruit       1\n",
       "1001f            fruit     dairy       2\n",
       "1001m            fruit     drinks      1\n",
       "1001th           fruit     fruit       2\n",
       "                                      ..\n",
       "9f               fruit     fruit       1\n",
       "9m               fruit     checkout    1\n",
       "9th              fruit     spices      1\n",
       "9tu              fruit     dairy       1\n",
       "                           fruit       1\n",
       "Name: next_loc, Length: 4933, dtype: int64"
      ]
     },
     "execution_count": 50,
     "metadata": {},
     "output_type": "execute_result"
    }
   ],
   "source": [
    "combo.loc[combo[\"location\"] == \"fruit\"].groupby(['customer_no_day','location','next_loc'])['next_loc'].count()"
   ]
  },
  {
   "cell_type": "code",
   "execution_count": 51,
   "metadata": {},
   "outputs": [
    {
     "data": {
      "text/plain": [
       "array([[2688, 1242, 1168, 1267, 1052],\n",
       "       [1223,  946,  736, 1046,  728],\n",
       "       [1139,  731,  630,  805,  600],\n",
       "       [1296, 1056,  789, 1176,  805],\n",
       "       [1071,  703,  582,  828,  569]], dtype=int64)"
      ]
     },
     "execution_count": 51,
     "metadata": {},
     "output_type": "execute_result"
    }
   ],
   "source": [
    "#Transitionmatrix\n",
    "result=combo.groupby(['location','next_loc'])['customer_no_day'].count()\n",
    "result=result.unstack('next_loc').values\n",
    "result"
   ]
  },
  {
   "cell_type": "code",
   "execution_count": 52,
   "metadata": {},
   "outputs": [
    {
     "data": {
      "text/html": [
       "<div>\n",
       "<style scoped>\n",
       "    .dataframe tbody tr th:only-of-type {\n",
       "        vertical-align: middle;\n",
       "    }\n",
       "\n",
       "    .dataframe tbody tr th {\n",
       "        vertical-align: top;\n",
       "    }\n",
       "\n",
       "    .dataframe thead th {\n",
       "        text-align: right;\n",
       "    }\n",
       "</style>\n",
       "<table border=\"1\" class=\"dataframe\">\n",
       "  <thead>\n",
       "    <tr style=\"text-align: right;\">\n",
       "      <th>next_loc</th>\n",
       "      <th>checkout</th>\n",
       "      <th>dairy</th>\n",
       "      <th>drinks</th>\n",
       "      <th>fruit</th>\n",
       "      <th>spices</th>\n",
       "    </tr>\n",
       "    <tr>\n",
       "      <th>location</th>\n",
       "      <th></th>\n",
       "      <th></th>\n",
       "      <th></th>\n",
       "      <th></th>\n",
       "      <th></th>\n",
       "    </tr>\n",
       "  </thead>\n",
       "  <tbody>\n",
       "    <tr>\n",
       "      <th>checkout</th>\n",
       "      <td>0.362411</td>\n",
       "      <td>0.167453</td>\n",
       "      <td>0.157476</td>\n",
       "      <td>0.170824</td>\n",
       "      <td>0.141836</td>\n",
       "    </tr>\n",
       "    <tr>\n",
       "      <th>dairy</th>\n",
       "      <td>0.261381</td>\n",
       "      <td>0.202180</td>\n",
       "      <td>0.157299</td>\n",
       "      <td>0.223552</td>\n",
       "      <td>0.155589</td>\n",
       "    </tr>\n",
       "    <tr>\n",
       "      <th>drinks</th>\n",
       "      <td>0.291677</td>\n",
       "      <td>0.187196</td>\n",
       "      <td>0.161332</td>\n",
       "      <td>0.206146</td>\n",
       "      <td>0.153649</td>\n",
       "    </tr>\n",
       "    <tr>\n",
       "      <th>fruit</th>\n",
       "      <td>0.253026</td>\n",
       "      <td>0.206169</td>\n",
       "      <td>0.154041</td>\n",
       "      <td>0.229598</td>\n",
       "      <td>0.157165</td>\n",
       "    </tr>\n",
       "    <tr>\n",
       "      <th>spices</th>\n",
       "      <td>0.285372</td>\n",
       "      <td>0.187317</td>\n",
       "      <td>0.155076</td>\n",
       "      <td>0.220624</td>\n",
       "      <td>0.151612</td>\n",
       "    </tr>\n",
       "  </tbody>\n",
       "</table>\n",
       "</div>"
      ],
      "text/plain": [
       "next_loc  checkout     dairy    drinks     fruit    spices\n",
       "location                                                  \n",
       "checkout  0.362411  0.167453  0.157476  0.170824  0.141836\n",
       "dairy     0.261381  0.202180  0.157299  0.223552  0.155589\n",
       "drinks    0.291677  0.187196  0.161332  0.206146  0.153649\n",
       "fruit     0.253026  0.206169  0.154041  0.229598  0.157165\n",
       "spices    0.285372  0.187317  0.155076  0.220624  0.151612"
      ]
     },
     "execution_count": 52,
     "metadata": {},
     "output_type": "execute_result"
    }
   ],
   "source": [
    "#transition probability matrix\n",
    "result_cross=pd.crosstab(combo['location'],combo['next_loc'], normalize=0)\n",
    "result_cross"
   ]
  },
  {
   "cell_type": "code",
   "execution_count": 53,
   "metadata": {},
   "outputs": [
    {
     "data": {
      "text/plain": [
       "array([0, 0, 0, 1, 0])"
      ]
     },
     "execution_count": 53,
     "metadata": {},
     "output_type": "execute_result"
    }
   ],
   "source": [
    "# Random Initial State Vector\n",
    "import numpy as np\n",
    "isv_plain=np.zeros(4,dtype=int)\n",
    "isv_plain\n",
    "n=np.random.randint(0,4,1)\n",
    "isv=np.insert(isv_plain,n,1)\n",
    "isv"
   ]
  },
  {
   "cell_type": "code",
   "execution_count": 54,
   "metadata": {},
   "outputs": [
    {
     "data": {
      "text/plain": [
       "array([0.25302616, 0.20616947, 0.15404139, 0.22959781, 0.15716517])"
      ]
     },
     "execution_count": 54,
     "metadata": {},
     "output_type": "execute_result"
    }
   ],
   "source": [
    "# one markov transformation\n",
    "np.matmul(isv,result_cross.values)"
   ]
  },
  {
   "cell_type": "code",
   "execution_count": 57,
   "metadata": {},
   "outputs": [],
   "source": [
    "def simulation(TransitionMatrix,TransitionCount):\n",
    "    '''function for markov simulation, one customer only\n",
    "    transitioncounts flexible'''\n",
    "    sim=[]\n",
    "    isv_plain=np.zeros(4,dtype=int)\n",
    "    n=np.random.randint(0,4,1)\n",
    "    isv=np.insert(isv_plain,n,1)\n",
    "    sv_insert=np.matmul(isv,TransitionMatrix.values)\n",
    "    sim.append(sv_insert)\n",
    "    for i in range(TransitionCount):\n",
    "        sv_insert=np.matmul(sv_insert,TransitionMatrix.values)\n",
    "        sim.append(sv_insert)\n",
    "\n",
    "    return sim"
   ]
  },
  {
   "cell_type": "code",
   "execution_count": 56,
   "metadata": {},
   "outputs": [
    {
     "data": {
      "text/plain": [
       "[array([0.25302616, 0.20616947, 0.15404139, 0.22959781, 0.15716517]),\n",
       " array([0.29346322, 0.18966501, 0.15686758, 0.20845699, 0.1515472 ]),\n",
       " array([0.29767604, 0.18821758, 0.1569675 , 0.20616426, 0.15097463]),\n",
       " array([0.2981101 , 0.18806914, 0.15697739, 0.2059282 , 0.15091516]),\n",
       " array([0.2981548 , 0.18805386, 0.15697841, 0.20590389, 0.15090904]),\n",
       " array([0.29815941, 0.18805229, 0.15697851, 0.20590138, 0.1509084 ]),\n",
       " array([0.29815988, 0.18805213, 0.15697852, 0.20590113, 0.15090834]),\n",
       " array([0.29815993, 0.18805211, 0.15697853, 0.2059011 , 0.15090833]),\n",
       " array([0.29815993, 0.18805211, 0.15697853, 0.2059011 , 0.15090833]),\n",
       " array([0.29815993, 0.18805211, 0.15697853, 0.2059011 , 0.15090833]),\n",
       " array([0.29815993, 0.18805211, 0.15697853, 0.2059011 , 0.15090833])]"
      ]
     },
     "execution_count": 56,
     "metadata": {},
     "output_type": "execute_result"
    }
   ],
   "source": [
    "simulation(result_cross,10)"
   ]
  },
  {
   "cell_type": "code",
   "execution_count": 58,
   "metadata": {},
   "outputs": [],
   "source": [
    "def simulation_c(CustomerCount):\n",
    "    '''simulation for flexible customercount'''\n",
    "    c=[]\n",
    "    for i in range(CustomerCount):\n",
    "        sim_c=simulation(result_cross,5)\n",
    "        c.append(sim_c)\n",
    "    return c"
   ]
  },
  {
   "cell_type": "code",
   "execution_count": 59,
   "metadata": {},
   "outputs": [],
   "source": [
    "c=simulation_c(50)"
   ]
  },
  {
   "cell_type": "code",
   "execution_count": 60,
   "metadata": {},
   "outputs": [
    {
     "data": {
      "text/plain": [
       "[array([0.25302616, 0.20616947, 0.15404139, 0.22959781, 0.15716517]),\n",
       " array([0.29346322, 0.18966501, 0.15686758, 0.20845699, 0.1515472 ]),\n",
       " array([0.29767604, 0.18821758, 0.1569675 , 0.20616426, 0.15097463]),\n",
       " array([0.2981101 , 0.18806914, 0.15697739, 0.2059282 , 0.15091516]),\n",
       " array([0.2981548 , 0.18805386, 0.15697841, 0.20590389, 0.15090904]),\n",
       " array([0.29815941, 0.18805229, 0.15697851, 0.20590138, 0.1509084 ])]"
      ]
     },
     "execution_count": 60,
     "metadata": {},
     "output_type": "execute_result"
    }
   ],
   "source": [
    "c[3]"
   ]
  },
  {
   "cell_type": "code",
   "execution_count": 61,
   "metadata": {},
   "outputs": [
    {
     "data": {
      "text/plain": [
       "array(['drinks'], dtype='<U8')"
      ]
     },
     "execution_count": 61,
     "metadata": {},
     "output_type": "execute_result"
    }
   ],
   "source": [
    "# weighted random choice for next status\n",
    "from numpy.random import choice\n",
    "draw = choice(['checkout','dairy','drinks','fruit','spices'], 1,p=c[1][1])\n",
    "draw"
   ]
  },
  {
   "cell_type": "code",
   "execution_count": 62,
   "metadata": {},
   "outputs": [],
   "source": [
    "def simulation_one_cu():\n",
    "    '''Markov Simulation for one customer and 5 transitions\n",
    "    ending with checkout'''\n",
    "    sim_dev_cu=[]\n",
    "    for j in range(5):\n",
    "        draws = choice(['checkout','dairy','drinks','fruit','spices'], 1,p=c[0][j])\n",
    "        if draws!='checkout':\n",
    "            sim_dev_cu.append(draws)\n",
    "        elif draws=='checkout':\n",
    "            sim_dev_cu.append(draws)\n",
    "            break\n",
    "    return sim_dev_cu"
   ]
  },
  {
   "cell_type": "code",
   "execution_count": 63,
   "metadata": {},
   "outputs": [
    {
     "data": {
      "text/plain": [
       "[array(['drinks'], dtype='<U8'),\n",
       " array(['drinks'], dtype='<U8'),\n",
       " array(['drinks'], dtype='<U8'),\n",
       " array(['checkout'], dtype='<U8')]"
      ]
     },
     "execution_count": 63,
     "metadata": {},
     "output_type": "execute_result"
    }
   ],
   "source": [
    "simulation_one_cu()"
   ]
  },
  {
   "cell_type": "code",
   "execution_count": 64,
   "metadata": {},
   "outputs": [],
   "source": [
    "def simulation_dev(CustomerCount,TransitionCount):\n",
    "    '''Complete Markov Simulation with flexible customercount \n",
    "    and flexible transitioncount'''\n",
    "    sim_dev_total=[]\n",
    "    for i in range(CustomerCount):\n",
    "        sim_dev=[]\n",
    "        for j in range(TransitionCount):\n",
    "            draws = choice(['checkout','dairy','drinks','fruit','spices'], 1,p=c[i][j])\n",
    "            if draws!='checkout':\n",
    "                sim_dev.append(draws)\n",
    "                continue\n",
    "            elif draws=='checkout':\n",
    "                sim_dev.append(draws)\n",
    "                break\n",
    "        sim_dev_total.append(sim_dev)\n",
    "        print(sim_dev_total)\n",
    "    return sim_dev_total"
   ]
  },
  {
   "cell_type": "code",
   "execution_count": 65,
   "metadata": {},
   "outputs": [
    {
     "name": "stdout",
     "output_type": "stream",
     "text": [
      "[[array(['drinks'], dtype='<U8'), array(['checkout'], dtype='<U8')]]\n",
      "[[array(['drinks'], dtype='<U8'), array(['checkout'], dtype='<U8')], [array(['spices'], dtype='<U8'), array(['fruit'], dtype='<U8'), array(['checkout'], dtype='<U8')]]\n",
      "[[array(['drinks'], dtype='<U8'), array(['checkout'], dtype='<U8')], [array(['spices'], dtype='<U8'), array(['fruit'], dtype='<U8'), array(['checkout'], dtype='<U8')], [array(['dairy'], dtype='<U8'), array(['dairy'], dtype='<U8'), array(['dairy'], dtype='<U8'), array(['spices'], dtype='<U8'), array(['fruit'], dtype='<U8')]]\n",
      "[[array(['drinks'], dtype='<U8'), array(['checkout'], dtype='<U8')], [array(['spices'], dtype='<U8'), array(['fruit'], dtype='<U8'), array(['checkout'], dtype='<U8')], [array(['dairy'], dtype='<U8'), array(['dairy'], dtype='<U8'), array(['dairy'], dtype='<U8'), array(['spices'], dtype='<U8'), array(['fruit'], dtype='<U8')], [array(['drinks'], dtype='<U8'), array(['spices'], dtype='<U8'), array(['dairy'], dtype='<U8'), array(['fruit'], dtype='<U8'), array(['drinks'], dtype='<U8')]]\n",
      "[[array(['drinks'], dtype='<U8'), array(['checkout'], dtype='<U8')], [array(['spices'], dtype='<U8'), array(['fruit'], dtype='<U8'), array(['checkout'], dtype='<U8')], [array(['dairy'], dtype='<U8'), array(['dairy'], dtype='<U8'), array(['dairy'], dtype='<U8'), array(['spices'], dtype='<U8'), array(['fruit'], dtype='<U8')], [array(['drinks'], dtype='<U8'), array(['spices'], dtype='<U8'), array(['dairy'], dtype='<U8'), array(['fruit'], dtype='<U8'), array(['drinks'], dtype='<U8')], [array(['drinks'], dtype='<U8'), array(['checkout'], dtype='<U8')]]\n",
      "[[array(['drinks'], dtype='<U8'), array(['checkout'], dtype='<U8')], [array(['spices'], dtype='<U8'), array(['fruit'], dtype='<U8'), array(['checkout'], dtype='<U8')], [array(['dairy'], dtype='<U8'), array(['dairy'], dtype='<U8'), array(['dairy'], dtype='<U8'), array(['spices'], dtype='<U8'), array(['fruit'], dtype='<U8')], [array(['drinks'], dtype='<U8'), array(['spices'], dtype='<U8'), array(['dairy'], dtype='<U8'), array(['fruit'], dtype='<U8'), array(['drinks'], dtype='<U8')], [array(['drinks'], dtype='<U8'), array(['checkout'], dtype='<U8')], [array(['fruit'], dtype='<U8'), array(['spices'], dtype='<U8'), array(['fruit'], dtype='<U8'), array(['dairy'], dtype='<U8'), array(['spices'], dtype='<U8')]]\n",
      "[[array(['drinks'], dtype='<U8'), array(['checkout'], dtype='<U8')], [array(['spices'], dtype='<U8'), array(['fruit'], dtype='<U8'), array(['checkout'], dtype='<U8')], [array(['dairy'], dtype='<U8'), array(['dairy'], dtype='<U8'), array(['dairy'], dtype='<U8'), array(['spices'], dtype='<U8'), array(['fruit'], dtype='<U8')], [array(['drinks'], dtype='<U8'), array(['spices'], dtype='<U8'), array(['dairy'], dtype='<U8'), array(['fruit'], dtype='<U8'), array(['drinks'], dtype='<U8')], [array(['drinks'], dtype='<U8'), array(['checkout'], dtype='<U8')], [array(['fruit'], dtype='<U8'), array(['spices'], dtype='<U8'), array(['fruit'], dtype='<U8'), array(['dairy'], dtype='<U8'), array(['spices'], dtype='<U8')], [array(['checkout'], dtype='<U8')]]\n",
      "[[array(['drinks'], dtype='<U8'), array(['checkout'], dtype='<U8')], [array(['spices'], dtype='<U8'), array(['fruit'], dtype='<U8'), array(['checkout'], dtype='<U8')], [array(['dairy'], dtype='<U8'), array(['dairy'], dtype='<U8'), array(['dairy'], dtype='<U8'), array(['spices'], dtype='<U8'), array(['fruit'], dtype='<U8')], [array(['drinks'], dtype='<U8'), array(['spices'], dtype='<U8'), array(['dairy'], dtype='<U8'), array(['fruit'], dtype='<U8'), array(['drinks'], dtype='<U8')], [array(['drinks'], dtype='<U8'), array(['checkout'], dtype='<U8')], [array(['fruit'], dtype='<U8'), array(['spices'], dtype='<U8'), array(['fruit'], dtype='<U8'), array(['dairy'], dtype='<U8'), array(['spices'], dtype='<U8')], [array(['checkout'], dtype='<U8')], [array(['checkout'], dtype='<U8')]]\n",
      "[[array(['drinks'], dtype='<U8'), array(['checkout'], dtype='<U8')], [array(['spices'], dtype='<U8'), array(['fruit'], dtype='<U8'), array(['checkout'], dtype='<U8')], [array(['dairy'], dtype='<U8'), array(['dairy'], dtype='<U8'), array(['dairy'], dtype='<U8'), array(['spices'], dtype='<U8'), array(['fruit'], dtype='<U8')], [array(['drinks'], dtype='<U8'), array(['spices'], dtype='<U8'), array(['dairy'], dtype='<U8'), array(['fruit'], dtype='<U8'), array(['drinks'], dtype='<U8')], [array(['drinks'], dtype='<U8'), array(['checkout'], dtype='<U8')], [array(['fruit'], dtype='<U8'), array(['spices'], dtype='<U8'), array(['fruit'], dtype='<U8'), array(['dairy'], dtype='<U8'), array(['spices'], dtype='<U8')], [array(['checkout'], dtype='<U8')], [array(['checkout'], dtype='<U8')], [array(['spices'], dtype='<U8'), array(['checkout'], dtype='<U8')]]\n",
      "[[array(['drinks'], dtype='<U8'), array(['checkout'], dtype='<U8')], [array(['spices'], dtype='<U8'), array(['fruit'], dtype='<U8'), array(['checkout'], dtype='<U8')], [array(['dairy'], dtype='<U8'), array(['dairy'], dtype='<U8'), array(['dairy'], dtype='<U8'), array(['spices'], dtype='<U8'), array(['fruit'], dtype='<U8')], [array(['drinks'], dtype='<U8'), array(['spices'], dtype='<U8'), array(['dairy'], dtype='<U8'), array(['fruit'], dtype='<U8'), array(['drinks'], dtype='<U8')], [array(['drinks'], dtype='<U8'), array(['checkout'], dtype='<U8')], [array(['fruit'], dtype='<U8'), array(['spices'], dtype='<U8'), array(['fruit'], dtype='<U8'), array(['dairy'], dtype='<U8'), array(['spices'], dtype='<U8')], [array(['checkout'], dtype='<U8')], [array(['checkout'], dtype='<U8')], [array(['spices'], dtype='<U8'), array(['checkout'], dtype='<U8')], [array(['fruit'], dtype='<U8'), array(['checkout'], dtype='<U8')]]\n",
      "[[array(['drinks'], dtype='<U8'), array(['checkout'], dtype='<U8')], [array(['spices'], dtype='<U8'), array(['fruit'], dtype='<U8'), array(['checkout'], dtype='<U8')], [array(['dairy'], dtype='<U8'), array(['dairy'], dtype='<U8'), array(['dairy'], dtype='<U8'), array(['spices'], dtype='<U8'), array(['fruit'], dtype='<U8')], [array(['drinks'], dtype='<U8'), array(['spices'], dtype='<U8'), array(['dairy'], dtype='<U8'), array(['fruit'], dtype='<U8'), array(['drinks'], dtype='<U8')], [array(['drinks'], dtype='<U8'), array(['checkout'], dtype='<U8')], [array(['fruit'], dtype='<U8'), array(['spices'], dtype='<U8'), array(['fruit'], dtype='<U8'), array(['dairy'], dtype='<U8'), array(['spices'], dtype='<U8')], [array(['checkout'], dtype='<U8')], [array(['checkout'], dtype='<U8')], [array(['spices'], dtype='<U8'), array(['checkout'], dtype='<U8')], [array(['fruit'], dtype='<U8'), array(['checkout'], dtype='<U8')], [array(['checkout'], dtype='<U8')]]\n",
      "[[array(['drinks'], dtype='<U8'), array(['checkout'], dtype='<U8')], [array(['spices'], dtype='<U8'), array(['fruit'], dtype='<U8'), array(['checkout'], dtype='<U8')], [array(['dairy'], dtype='<U8'), array(['dairy'], dtype='<U8'), array(['dairy'], dtype='<U8'), array(['spices'], dtype='<U8'), array(['fruit'], dtype='<U8')], [array(['drinks'], dtype='<U8'), array(['spices'], dtype='<U8'), array(['dairy'], dtype='<U8'), array(['fruit'], dtype='<U8'), array(['drinks'], dtype='<U8')], [array(['drinks'], dtype='<U8'), array(['checkout'], dtype='<U8')], [array(['fruit'], dtype='<U8'), array(['spices'], dtype='<U8'), array(['fruit'], dtype='<U8'), array(['dairy'], dtype='<U8'), array(['spices'], dtype='<U8')], [array(['checkout'], dtype='<U8')], [array(['checkout'], dtype='<U8')], [array(['spices'], dtype='<U8'), array(['checkout'], dtype='<U8')], [array(['fruit'], dtype='<U8'), array(['checkout'], dtype='<U8')], [array(['checkout'], dtype='<U8')], [array(['drinks'], dtype='<U8'), array(['checkout'], dtype='<U8')]]\n",
      "[[array(['drinks'], dtype='<U8'), array(['checkout'], dtype='<U8')], [array(['spices'], dtype='<U8'), array(['fruit'], dtype='<U8'), array(['checkout'], dtype='<U8')], [array(['dairy'], dtype='<U8'), array(['dairy'], dtype='<U8'), array(['dairy'], dtype='<U8'), array(['spices'], dtype='<U8'), array(['fruit'], dtype='<U8')], [array(['drinks'], dtype='<U8'), array(['spices'], dtype='<U8'), array(['dairy'], dtype='<U8'), array(['fruit'], dtype='<U8'), array(['drinks'], dtype='<U8')], [array(['drinks'], dtype='<U8'), array(['checkout'], dtype='<U8')], [array(['fruit'], dtype='<U8'), array(['spices'], dtype='<U8'), array(['fruit'], dtype='<U8'), array(['dairy'], dtype='<U8'), array(['spices'], dtype='<U8')], [array(['checkout'], dtype='<U8')], [array(['checkout'], dtype='<U8')], [array(['spices'], dtype='<U8'), array(['checkout'], dtype='<U8')], [array(['fruit'], dtype='<U8'), array(['checkout'], dtype='<U8')], [array(['checkout'], dtype='<U8')], [array(['drinks'], dtype='<U8'), array(['checkout'], dtype='<U8')], [array(['checkout'], dtype='<U8')]]\n",
      "[[array(['drinks'], dtype='<U8'), array(['checkout'], dtype='<U8')], [array(['spices'], dtype='<U8'), array(['fruit'], dtype='<U8'), array(['checkout'], dtype='<U8')], [array(['dairy'], dtype='<U8'), array(['dairy'], dtype='<U8'), array(['dairy'], dtype='<U8'), array(['spices'], dtype='<U8'), array(['fruit'], dtype='<U8')], [array(['drinks'], dtype='<U8'), array(['spices'], dtype='<U8'), array(['dairy'], dtype='<U8'), array(['fruit'], dtype='<U8'), array(['drinks'], dtype='<U8')], [array(['drinks'], dtype='<U8'), array(['checkout'], dtype='<U8')], [array(['fruit'], dtype='<U8'), array(['spices'], dtype='<U8'), array(['fruit'], dtype='<U8'), array(['dairy'], dtype='<U8'), array(['spices'], dtype='<U8')], [array(['checkout'], dtype='<U8')], [array(['checkout'], dtype='<U8')], [array(['spices'], dtype='<U8'), array(['checkout'], dtype='<U8')], [array(['fruit'], dtype='<U8'), array(['checkout'], dtype='<U8')], [array(['checkout'], dtype='<U8')], [array(['drinks'], dtype='<U8'), array(['checkout'], dtype='<U8')], [array(['checkout'], dtype='<U8')], [array(['checkout'], dtype='<U8')]]\n",
      "[[array(['drinks'], dtype='<U8'), array(['checkout'], dtype='<U8')], [array(['spices'], dtype='<U8'), array(['fruit'], dtype='<U8'), array(['checkout'], dtype='<U8')], [array(['dairy'], dtype='<U8'), array(['dairy'], dtype='<U8'), array(['dairy'], dtype='<U8'), array(['spices'], dtype='<U8'), array(['fruit'], dtype='<U8')], [array(['drinks'], dtype='<U8'), array(['spices'], dtype='<U8'), array(['dairy'], dtype='<U8'), array(['fruit'], dtype='<U8'), array(['drinks'], dtype='<U8')], [array(['drinks'], dtype='<U8'), array(['checkout'], dtype='<U8')], [array(['fruit'], dtype='<U8'), array(['spices'], dtype='<U8'), array(['fruit'], dtype='<U8'), array(['dairy'], dtype='<U8'), array(['spices'], dtype='<U8')], [array(['checkout'], dtype='<U8')], [array(['checkout'], dtype='<U8')], [array(['spices'], dtype='<U8'), array(['checkout'], dtype='<U8')], [array(['fruit'], dtype='<U8'), array(['checkout'], dtype='<U8')], [array(['checkout'], dtype='<U8')], [array(['drinks'], dtype='<U8'), array(['checkout'], dtype='<U8')], [array(['checkout'], dtype='<U8')], [array(['checkout'], dtype='<U8')], [array(['checkout'], dtype='<U8')]]\n",
      "[[array(['drinks'], dtype='<U8'), array(['checkout'], dtype='<U8')], [array(['spices'], dtype='<U8'), array(['fruit'], dtype='<U8'), array(['checkout'], dtype='<U8')], [array(['dairy'], dtype='<U8'), array(['dairy'], dtype='<U8'), array(['dairy'], dtype='<U8'), array(['spices'], dtype='<U8'), array(['fruit'], dtype='<U8')], [array(['drinks'], dtype='<U8'), array(['spices'], dtype='<U8'), array(['dairy'], dtype='<U8'), array(['fruit'], dtype='<U8'), array(['drinks'], dtype='<U8')], [array(['drinks'], dtype='<U8'), array(['checkout'], dtype='<U8')], [array(['fruit'], dtype='<U8'), array(['spices'], dtype='<U8'), array(['fruit'], dtype='<U8'), array(['dairy'], dtype='<U8'), array(['spices'], dtype='<U8')], [array(['checkout'], dtype='<U8')], [array(['checkout'], dtype='<U8')], [array(['spices'], dtype='<U8'), array(['checkout'], dtype='<U8')], [array(['fruit'], dtype='<U8'), array(['checkout'], dtype='<U8')], [array(['checkout'], dtype='<U8')], [array(['drinks'], dtype='<U8'), array(['checkout'], dtype='<U8')], [array(['checkout'], dtype='<U8')], [array(['checkout'], dtype='<U8')], [array(['checkout'], dtype='<U8')], [array(['checkout'], dtype='<U8')]]\n",
      "[[array(['drinks'], dtype='<U8'), array(['checkout'], dtype='<U8')], [array(['spices'], dtype='<U8'), array(['fruit'], dtype='<U8'), array(['checkout'], dtype='<U8')], [array(['dairy'], dtype='<U8'), array(['dairy'], dtype='<U8'), array(['dairy'], dtype='<U8'), array(['spices'], dtype='<U8'), array(['fruit'], dtype='<U8')], [array(['drinks'], dtype='<U8'), array(['spices'], dtype='<U8'), array(['dairy'], dtype='<U8'), array(['fruit'], dtype='<U8'), array(['drinks'], dtype='<U8')], [array(['drinks'], dtype='<U8'), array(['checkout'], dtype='<U8')], [array(['fruit'], dtype='<U8'), array(['spices'], dtype='<U8'), array(['fruit'], dtype='<U8'), array(['dairy'], dtype='<U8'), array(['spices'], dtype='<U8')], [array(['checkout'], dtype='<U8')], [array(['checkout'], dtype='<U8')], [array(['spices'], dtype='<U8'), array(['checkout'], dtype='<U8')], [array(['fruit'], dtype='<U8'), array(['checkout'], dtype='<U8')], [array(['checkout'], dtype='<U8')], [array(['drinks'], dtype='<U8'), array(['checkout'], dtype='<U8')], [array(['checkout'], dtype='<U8')], [array(['checkout'], dtype='<U8')], [array(['checkout'], dtype='<U8')], [array(['checkout'], dtype='<U8')], [array(['fruit'], dtype='<U8'), array(['spices'], dtype='<U8'), array(['fruit'], dtype='<U8'), array(['checkout'], dtype='<U8')]]\n",
      "[[array(['drinks'], dtype='<U8'), array(['checkout'], dtype='<U8')], [array(['spices'], dtype='<U8'), array(['fruit'], dtype='<U8'), array(['checkout'], dtype='<U8')], [array(['dairy'], dtype='<U8'), array(['dairy'], dtype='<U8'), array(['dairy'], dtype='<U8'), array(['spices'], dtype='<U8'), array(['fruit'], dtype='<U8')], [array(['drinks'], dtype='<U8'), array(['spices'], dtype='<U8'), array(['dairy'], dtype='<U8'), array(['fruit'], dtype='<U8'), array(['drinks'], dtype='<U8')], [array(['drinks'], dtype='<U8'), array(['checkout'], dtype='<U8')], [array(['fruit'], dtype='<U8'), array(['spices'], dtype='<U8'), array(['fruit'], dtype='<U8'), array(['dairy'], dtype='<U8'), array(['spices'], dtype='<U8')], [array(['checkout'], dtype='<U8')], [array(['checkout'], dtype='<U8')], [array(['spices'], dtype='<U8'), array(['checkout'], dtype='<U8')], [array(['fruit'], dtype='<U8'), array(['checkout'], dtype='<U8')], [array(['checkout'], dtype='<U8')], [array(['drinks'], dtype='<U8'), array(['checkout'], dtype='<U8')], [array(['checkout'], dtype='<U8')], [array(['checkout'], dtype='<U8')], [array(['checkout'], dtype='<U8')], [array(['checkout'], dtype='<U8')], [array(['fruit'], dtype='<U8'), array(['spices'], dtype='<U8'), array(['fruit'], dtype='<U8'), array(['checkout'], dtype='<U8')], [array(['drinks'], dtype='<U8'), array(['checkout'], dtype='<U8')]]\n",
      "[[array(['drinks'], dtype='<U8'), array(['checkout'], dtype='<U8')], [array(['spices'], dtype='<U8'), array(['fruit'], dtype='<U8'), array(['checkout'], dtype='<U8')], [array(['dairy'], dtype='<U8'), array(['dairy'], dtype='<U8'), array(['dairy'], dtype='<U8'), array(['spices'], dtype='<U8'), array(['fruit'], dtype='<U8')], [array(['drinks'], dtype='<U8'), array(['spices'], dtype='<U8'), array(['dairy'], dtype='<U8'), array(['fruit'], dtype='<U8'), array(['drinks'], dtype='<U8')], [array(['drinks'], dtype='<U8'), array(['checkout'], dtype='<U8')], [array(['fruit'], dtype='<U8'), array(['spices'], dtype='<U8'), array(['fruit'], dtype='<U8'), array(['dairy'], dtype='<U8'), array(['spices'], dtype='<U8')], [array(['checkout'], dtype='<U8')], [array(['checkout'], dtype='<U8')], [array(['spices'], dtype='<U8'), array(['checkout'], dtype='<U8')], [array(['fruit'], dtype='<U8'), array(['checkout'], dtype='<U8')], [array(['checkout'], dtype='<U8')], [array(['drinks'], dtype='<U8'), array(['checkout'], dtype='<U8')], [array(['checkout'], dtype='<U8')], [array(['checkout'], dtype='<U8')], [array(['checkout'], dtype='<U8')], [array(['checkout'], dtype='<U8')], [array(['fruit'], dtype='<U8'), array(['spices'], dtype='<U8'), array(['fruit'], dtype='<U8'), array(['checkout'], dtype='<U8')], [array(['drinks'], dtype='<U8'), array(['checkout'], dtype='<U8')], [array(['checkout'], dtype='<U8')]]\n",
      "[[array(['drinks'], dtype='<U8'), array(['checkout'], dtype='<U8')], [array(['spices'], dtype='<U8'), array(['fruit'], dtype='<U8'), array(['checkout'], dtype='<U8')], [array(['dairy'], dtype='<U8'), array(['dairy'], dtype='<U8'), array(['dairy'], dtype='<U8'), array(['spices'], dtype='<U8'), array(['fruit'], dtype='<U8')], [array(['drinks'], dtype='<U8'), array(['spices'], dtype='<U8'), array(['dairy'], dtype='<U8'), array(['fruit'], dtype='<U8'), array(['drinks'], dtype='<U8')], [array(['drinks'], dtype='<U8'), array(['checkout'], dtype='<U8')], [array(['fruit'], dtype='<U8'), array(['spices'], dtype='<U8'), array(['fruit'], dtype='<U8'), array(['dairy'], dtype='<U8'), array(['spices'], dtype='<U8')], [array(['checkout'], dtype='<U8')], [array(['checkout'], dtype='<U8')], [array(['spices'], dtype='<U8'), array(['checkout'], dtype='<U8')], [array(['fruit'], dtype='<U8'), array(['checkout'], dtype='<U8')], [array(['checkout'], dtype='<U8')], [array(['drinks'], dtype='<U8'), array(['checkout'], dtype='<U8')], [array(['checkout'], dtype='<U8')], [array(['checkout'], dtype='<U8')], [array(['checkout'], dtype='<U8')], [array(['checkout'], dtype='<U8')], [array(['fruit'], dtype='<U8'), array(['spices'], dtype='<U8'), array(['fruit'], dtype='<U8'), array(['checkout'], dtype='<U8')], [array(['drinks'], dtype='<U8'), array(['checkout'], dtype='<U8')], [array(['checkout'], dtype='<U8')], [array(['dairy'], dtype='<U8'), array(['fruit'], dtype='<U8'), array(['checkout'], dtype='<U8')]]\n",
      "[[array(['drinks'], dtype='<U8'), array(['checkout'], dtype='<U8')], [array(['spices'], dtype='<U8'), array(['fruit'], dtype='<U8'), array(['checkout'], dtype='<U8')], [array(['dairy'], dtype='<U8'), array(['dairy'], dtype='<U8'), array(['dairy'], dtype='<U8'), array(['spices'], dtype='<U8'), array(['fruit'], dtype='<U8')], [array(['drinks'], dtype='<U8'), array(['spices'], dtype='<U8'), array(['dairy'], dtype='<U8'), array(['fruit'], dtype='<U8'), array(['drinks'], dtype='<U8')], [array(['drinks'], dtype='<U8'), array(['checkout'], dtype='<U8')], [array(['fruit'], dtype='<U8'), array(['spices'], dtype='<U8'), array(['fruit'], dtype='<U8'), array(['dairy'], dtype='<U8'), array(['spices'], dtype='<U8')], [array(['checkout'], dtype='<U8')], [array(['checkout'], dtype='<U8')], [array(['spices'], dtype='<U8'), array(['checkout'], dtype='<U8')], [array(['fruit'], dtype='<U8'), array(['checkout'], dtype='<U8')], [array(['checkout'], dtype='<U8')], [array(['drinks'], dtype='<U8'), array(['checkout'], dtype='<U8')], [array(['checkout'], dtype='<U8')], [array(['checkout'], dtype='<U8')], [array(['checkout'], dtype='<U8')], [array(['checkout'], dtype='<U8')], [array(['fruit'], dtype='<U8'), array(['spices'], dtype='<U8'), array(['fruit'], dtype='<U8'), array(['checkout'], dtype='<U8')], [array(['drinks'], dtype='<U8'), array(['checkout'], dtype='<U8')], [array(['checkout'], dtype='<U8')], [array(['dairy'], dtype='<U8'), array(['fruit'], dtype='<U8'), array(['checkout'], dtype='<U8')], [array(['fruit'], dtype='<U8'), array(['fruit'], dtype='<U8'), array(['dairy'], dtype='<U8'), array(['checkout'], dtype='<U8')]]\n",
      "[[array(['drinks'], dtype='<U8'), array(['checkout'], dtype='<U8')], [array(['spices'], dtype='<U8'), array(['fruit'], dtype='<U8'), array(['checkout'], dtype='<U8')], [array(['dairy'], dtype='<U8'), array(['dairy'], dtype='<U8'), array(['dairy'], dtype='<U8'), array(['spices'], dtype='<U8'), array(['fruit'], dtype='<U8')], [array(['drinks'], dtype='<U8'), array(['spices'], dtype='<U8'), array(['dairy'], dtype='<U8'), array(['fruit'], dtype='<U8'), array(['drinks'], dtype='<U8')], [array(['drinks'], dtype='<U8'), array(['checkout'], dtype='<U8')], [array(['fruit'], dtype='<U8'), array(['spices'], dtype='<U8'), array(['fruit'], dtype='<U8'), array(['dairy'], dtype='<U8'), array(['spices'], dtype='<U8')], [array(['checkout'], dtype='<U8')], [array(['checkout'], dtype='<U8')], [array(['spices'], dtype='<U8'), array(['checkout'], dtype='<U8')], [array(['fruit'], dtype='<U8'), array(['checkout'], dtype='<U8')], [array(['checkout'], dtype='<U8')], [array(['drinks'], dtype='<U8'), array(['checkout'], dtype='<U8')], [array(['checkout'], dtype='<U8')], [array(['checkout'], dtype='<U8')], [array(['checkout'], dtype='<U8')], [array(['checkout'], dtype='<U8')], [array(['fruit'], dtype='<U8'), array(['spices'], dtype='<U8'), array(['fruit'], dtype='<U8'), array(['checkout'], dtype='<U8')], [array(['drinks'], dtype='<U8'), array(['checkout'], dtype='<U8')], [array(['checkout'], dtype='<U8')], [array(['dairy'], dtype='<U8'), array(['fruit'], dtype='<U8'), array(['checkout'], dtype='<U8')], [array(['fruit'], dtype='<U8'), array(['fruit'], dtype='<U8'), array(['dairy'], dtype='<U8'), array(['checkout'], dtype='<U8')], [array(['spices'], dtype='<U8'), array(['checkout'], dtype='<U8')]]\n",
      "[[array(['drinks'], dtype='<U8'), array(['checkout'], dtype='<U8')], [array(['spices'], dtype='<U8'), array(['fruit'], dtype='<U8'), array(['checkout'], dtype='<U8')], [array(['dairy'], dtype='<U8'), array(['dairy'], dtype='<U8'), array(['dairy'], dtype='<U8'), array(['spices'], dtype='<U8'), array(['fruit'], dtype='<U8')], [array(['drinks'], dtype='<U8'), array(['spices'], dtype='<U8'), array(['dairy'], dtype='<U8'), array(['fruit'], dtype='<U8'), array(['drinks'], dtype='<U8')], [array(['drinks'], dtype='<U8'), array(['checkout'], dtype='<U8')], [array(['fruit'], dtype='<U8'), array(['spices'], dtype='<U8'), array(['fruit'], dtype='<U8'), array(['dairy'], dtype='<U8'), array(['spices'], dtype='<U8')], [array(['checkout'], dtype='<U8')], [array(['checkout'], dtype='<U8')], [array(['spices'], dtype='<U8'), array(['checkout'], dtype='<U8')], [array(['fruit'], dtype='<U8'), array(['checkout'], dtype='<U8')], [array(['checkout'], dtype='<U8')], [array(['drinks'], dtype='<U8'), array(['checkout'], dtype='<U8')], [array(['checkout'], dtype='<U8')], [array(['checkout'], dtype='<U8')], [array(['checkout'], dtype='<U8')], [array(['checkout'], dtype='<U8')], [array(['fruit'], dtype='<U8'), array(['spices'], dtype='<U8'), array(['fruit'], dtype='<U8'), array(['checkout'], dtype='<U8')], [array(['drinks'], dtype='<U8'), array(['checkout'], dtype='<U8')], [array(['checkout'], dtype='<U8')], [array(['dairy'], dtype='<U8'), array(['fruit'], dtype='<U8'), array(['checkout'], dtype='<U8')], [array(['fruit'], dtype='<U8'), array(['fruit'], dtype='<U8'), array(['dairy'], dtype='<U8'), array(['checkout'], dtype='<U8')], [array(['spices'], dtype='<U8'), array(['checkout'], dtype='<U8')], [array(['checkout'], dtype='<U8')]]\n",
      "[[array(['drinks'], dtype='<U8'), array(['checkout'], dtype='<U8')], [array(['spices'], dtype='<U8'), array(['fruit'], dtype='<U8'), array(['checkout'], dtype='<U8')], [array(['dairy'], dtype='<U8'), array(['dairy'], dtype='<U8'), array(['dairy'], dtype='<U8'), array(['spices'], dtype='<U8'), array(['fruit'], dtype='<U8')], [array(['drinks'], dtype='<U8'), array(['spices'], dtype='<U8'), array(['dairy'], dtype='<U8'), array(['fruit'], dtype='<U8'), array(['drinks'], dtype='<U8')], [array(['drinks'], dtype='<U8'), array(['checkout'], dtype='<U8')], [array(['fruit'], dtype='<U8'), array(['spices'], dtype='<U8'), array(['fruit'], dtype='<U8'), array(['dairy'], dtype='<U8'), array(['spices'], dtype='<U8')], [array(['checkout'], dtype='<U8')], [array(['checkout'], dtype='<U8')], [array(['spices'], dtype='<U8'), array(['checkout'], dtype='<U8')], [array(['fruit'], dtype='<U8'), array(['checkout'], dtype='<U8')], [array(['checkout'], dtype='<U8')], [array(['drinks'], dtype='<U8'), array(['checkout'], dtype='<U8')], [array(['checkout'], dtype='<U8')], [array(['checkout'], dtype='<U8')], [array(['checkout'], dtype='<U8')], [array(['checkout'], dtype='<U8')], [array(['fruit'], dtype='<U8'), array(['spices'], dtype='<U8'), array(['fruit'], dtype='<U8'), array(['checkout'], dtype='<U8')], [array(['drinks'], dtype='<U8'), array(['checkout'], dtype='<U8')], [array(['checkout'], dtype='<U8')], [array(['dairy'], dtype='<U8'), array(['fruit'], dtype='<U8'), array(['checkout'], dtype='<U8')], [array(['fruit'], dtype='<U8'), array(['fruit'], dtype='<U8'), array(['dairy'], dtype='<U8'), array(['checkout'], dtype='<U8')], [array(['spices'], dtype='<U8'), array(['checkout'], dtype='<U8')], [array(['checkout'], dtype='<U8')], [array(['checkout'], dtype='<U8')]]\n",
      "[[array(['drinks'], dtype='<U8'), array(['checkout'], dtype='<U8')], [array(['spices'], dtype='<U8'), array(['fruit'], dtype='<U8'), array(['checkout'], dtype='<U8')], [array(['dairy'], dtype='<U8'), array(['dairy'], dtype='<U8'), array(['dairy'], dtype='<U8'), array(['spices'], dtype='<U8'), array(['fruit'], dtype='<U8')], [array(['drinks'], dtype='<U8'), array(['spices'], dtype='<U8'), array(['dairy'], dtype='<U8'), array(['fruit'], dtype='<U8'), array(['drinks'], dtype='<U8')], [array(['drinks'], dtype='<U8'), array(['checkout'], dtype='<U8')], [array(['fruit'], dtype='<U8'), array(['spices'], dtype='<U8'), array(['fruit'], dtype='<U8'), array(['dairy'], dtype='<U8'), array(['spices'], dtype='<U8')], [array(['checkout'], dtype='<U8')], [array(['checkout'], dtype='<U8')], [array(['spices'], dtype='<U8'), array(['checkout'], dtype='<U8')], [array(['fruit'], dtype='<U8'), array(['checkout'], dtype='<U8')], [array(['checkout'], dtype='<U8')], [array(['drinks'], dtype='<U8'), array(['checkout'], dtype='<U8')], [array(['checkout'], dtype='<U8')], [array(['checkout'], dtype='<U8')], [array(['checkout'], dtype='<U8')], [array(['checkout'], dtype='<U8')], [array(['fruit'], dtype='<U8'), array(['spices'], dtype='<U8'), array(['fruit'], dtype='<U8'), array(['checkout'], dtype='<U8')], [array(['drinks'], dtype='<U8'), array(['checkout'], dtype='<U8')], [array(['checkout'], dtype='<U8')], [array(['dairy'], dtype='<U8'), array(['fruit'], dtype='<U8'), array(['checkout'], dtype='<U8')], [array(['fruit'], dtype='<U8'), array(['fruit'], dtype='<U8'), array(['dairy'], dtype='<U8'), array(['checkout'], dtype='<U8')], [array(['spices'], dtype='<U8'), array(['checkout'], dtype='<U8')], [array(['checkout'], dtype='<U8')], [array(['checkout'], dtype='<U8')], [array(['drinks'], dtype='<U8'), array(['checkout'], dtype='<U8')]]\n",
      "[[array(['drinks'], dtype='<U8'), array(['checkout'], dtype='<U8')], [array(['spices'], dtype='<U8'), array(['fruit'], dtype='<U8'), array(['checkout'], dtype='<U8')], [array(['dairy'], dtype='<U8'), array(['dairy'], dtype='<U8'), array(['dairy'], dtype='<U8'), array(['spices'], dtype='<U8'), array(['fruit'], dtype='<U8')], [array(['drinks'], dtype='<U8'), array(['spices'], dtype='<U8'), array(['dairy'], dtype='<U8'), array(['fruit'], dtype='<U8'), array(['drinks'], dtype='<U8')], [array(['drinks'], dtype='<U8'), array(['checkout'], dtype='<U8')], [array(['fruit'], dtype='<U8'), array(['spices'], dtype='<U8'), array(['fruit'], dtype='<U8'), array(['dairy'], dtype='<U8'), array(['spices'], dtype='<U8')], [array(['checkout'], dtype='<U8')], [array(['checkout'], dtype='<U8')], [array(['spices'], dtype='<U8'), array(['checkout'], dtype='<U8')], [array(['fruit'], dtype='<U8'), array(['checkout'], dtype='<U8')], [array(['checkout'], dtype='<U8')], [array(['drinks'], dtype='<U8'), array(['checkout'], dtype='<U8')], [array(['checkout'], dtype='<U8')], [array(['checkout'], dtype='<U8')], [array(['checkout'], dtype='<U8')], [array(['checkout'], dtype='<U8')], [array(['fruit'], dtype='<U8'), array(['spices'], dtype='<U8'), array(['fruit'], dtype='<U8'), array(['checkout'], dtype='<U8')], [array(['drinks'], dtype='<U8'), array(['checkout'], dtype='<U8')], [array(['checkout'], dtype='<U8')], [array(['dairy'], dtype='<U8'), array(['fruit'], dtype='<U8'), array(['checkout'], dtype='<U8')], [array(['fruit'], dtype='<U8'), array(['fruit'], dtype='<U8'), array(['dairy'], dtype='<U8'), array(['checkout'], dtype='<U8')], [array(['spices'], dtype='<U8'), array(['checkout'], dtype='<U8')], [array(['checkout'], dtype='<U8')], [array(['checkout'], dtype='<U8')], [array(['drinks'], dtype='<U8'), array(['checkout'], dtype='<U8')], [array(['checkout'], dtype='<U8')]]\n",
      "[[array(['drinks'], dtype='<U8'), array(['checkout'], dtype='<U8')], [array(['spices'], dtype='<U8'), array(['fruit'], dtype='<U8'), array(['checkout'], dtype='<U8')], [array(['dairy'], dtype='<U8'), array(['dairy'], dtype='<U8'), array(['dairy'], dtype='<U8'), array(['spices'], dtype='<U8'), array(['fruit'], dtype='<U8')], [array(['drinks'], dtype='<U8'), array(['spices'], dtype='<U8'), array(['dairy'], dtype='<U8'), array(['fruit'], dtype='<U8'), array(['drinks'], dtype='<U8')], [array(['drinks'], dtype='<U8'), array(['checkout'], dtype='<U8')], [array(['fruit'], dtype='<U8'), array(['spices'], dtype='<U8'), array(['fruit'], dtype='<U8'), array(['dairy'], dtype='<U8'), array(['spices'], dtype='<U8')], [array(['checkout'], dtype='<U8')], [array(['checkout'], dtype='<U8')], [array(['spices'], dtype='<U8'), array(['checkout'], dtype='<U8')], [array(['fruit'], dtype='<U8'), array(['checkout'], dtype='<U8')], [array(['checkout'], dtype='<U8')], [array(['drinks'], dtype='<U8'), array(['checkout'], dtype='<U8')], [array(['checkout'], dtype='<U8')], [array(['checkout'], dtype='<U8')], [array(['checkout'], dtype='<U8')], [array(['checkout'], dtype='<U8')], [array(['fruit'], dtype='<U8'), array(['spices'], dtype='<U8'), array(['fruit'], dtype='<U8'), array(['checkout'], dtype='<U8')], [array(['drinks'], dtype='<U8'), array(['checkout'], dtype='<U8')], [array(['checkout'], dtype='<U8')], [array(['dairy'], dtype='<U8'), array(['fruit'], dtype='<U8'), array(['checkout'], dtype='<U8')], [array(['fruit'], dtype='<U8'), array(['fruit'], dtype='<U8'), array(['dairy'], dtype='<U8'), array(['checkout'], dtype='<U8')], [array(['spices'], dtype='<U8'), array(['checkout'], dtype='<U8')], [array(['checkout'], dtype='<U8')], [array(['checkout'], dtype='<U8')], [array(['drinks'], dtype='<U8'), array(['checkout'], dtype='<U8')], [array(['checkout'], dtype='<U8')], [array(['spices'], dtype='<U8'), array(['fruit'], dtype='<U8'), array(['drinks'], dtype='<U8'), array(['dairy'], dtype='<U8'), array(['checkout'], dtype='<U8')]]\n"
     ]
    },
    {
     "name": "stdout",
     "output_type": "stream",
     "text": [
      "[[array(['drinks'], dtype='<U8'), array(['checkout'], dtype='<U8')], [array(['spices'], dtype='<U8'), array(['fruit'], dtype='<U8'), array(['checkout'], dtype='<U8')], [array(['dairy'], dtype='<U8'), array(['dairy'], dtype='<U8'), array(['dairy'], dtype='<U8'), array(['spices'], dtype='<U8'), array(['fruit'], dtype='<U8')], [array(['drinks'], dtype='<U8'), array(['spices'], dtype='<U8'), array(['dairy'], dtype='<U8'), array(['fruit'], dtype='<U8'), array(['drinks'], dtype='<U8')], [array(['drinks'], dtype='<U8'), array(['checkout'], dtype='<U8')], [array(['fruit'], dtype='<U8'), array(['spices'], dtype='<U8'), array(['fruit'], dtype='<U8'), array(['dairy'], dtype='<U8'), array(['spices'], dtype='<U8')], [array(['checkout'], dtype='<U8')], [array(['checkout'], dtype='<U8')], [array(['spices'], dtype='<U8'), array(['checkout'], dtype='<U8')], [array(['fruit'], dtype='<U8'), array(['checkout'], dtype='<U8')], [array(['checkout'], dtype='<U8')], [array(['drinks'], dtype='<U8'), array(['checkout'], dtype='<U8')], [array(['checkout'], dtype='<U8')], [array(['checkout'], dtype='<U8')], [array(['checkout'], dtype='<U8')], [array(['checkout'], dtype='<U8')], [array(['fruit'], dtype='<U8'), array(['spices'], dtype='<U8'), array(['fruit'], dtype='<U8'), array(['checkout'], dtype='<U8')], [array(['drinks'], dtype='<U8'), array(['checkout'], dtype='<U8')], [array(['checkout'], dtype='<U8')], [array(['dairy'], dtype='<U8'), array(['fruit'], dtype='<U8'), array(['checkout'], dtype='<U8')], [array(['fruit'], dtype='<U8'), array(['fruit'], dtype='<U8'), array(['dairy'], dtype='<U8'), array(['checkout'], dtype='<U8')], [array(['spices'], dtype='<U8'), array(['checkout'], dtype='<U8')], [array(['checkout'], dtype='<U8')], [array(['checkout'], dtype='<U8')], [array(['drinks'], dtype='<U8'), array(['checkout'], dtype='<U8')], [array(['checkout'], dtype='<U8')], [array(['spices'], dtype='<U8'), array(['fruit'], dtype='<U8'), array(['drinks'], dtype='<U8'), array(['dairy'], dtype='<U8'), array(['checkout'], dtype='<U8')], [array(['fruit'], dtype='<U8'), array(['dairy'], dtype='<U8'), array(['dairy'], dtype='<U8'), array(['drinks'], dtype='<U8'), array(['drinks'], dtype='<U8')]]\n",
      "[[array(['drinks'], dtype='<U8'), array(['checkout'], dtype='<U8')], [array(['spices'], dtype='<U8'), array(['fruit'], dtype='<U8'), array(['checkout'], dtype='<U8')], [array(['dairy'], dtype='<U8'), array(['dairy'], dtype='<U8'), array(['dairy'], dtype='<U8'), array(['spices'], dtype='<U8'), array(['fruit'], dtype='<U8')], [array(['drinks'], dtype='<U8'), array(['spices'], dtype='<U8'), array(['dairy'], dtype='<U8'), array(['fruit'], dtype='<U8'), array(['drinks'], dtype='<U8')], [array(['drinks'], dtype='<U8'), array(['checkout'], dtype='<U8')], [array(['fruit'], dtype='<U8'), array(['spices'], dtype='<U8'), array(['fruit'], dtype='<U8'), array(['dairy'], dtype='<U8'), array(['spices'], dtype='<U8')], [array(['checkout'], dtype='<U8')], [array(['checkout'], dtype='<U8')], [array(['spices'], dtype='<U8'), array(['checkout'], dtype='<U8')], [array(['fruit'], dtype='<U8'), array(['checkout'], dtype='<U8')], [array(['checkout'], dtype='<U8')], [array(['drinks'], dtype='<U8'), array(['checkout'], dtype='<U8')], [array(['checkout'], dtype='<U8')], [array(['checkout'], dtype='<U8')], [array(['checkout'], dtype='<U8')], [array(['checkout'], dtype='<U8')], [array(['fruit'], dtype='<U8'), array(['spices'], dtype='<U8'), array(['fruit'], dtype='<U8'), array(['checkout'], dtype='<U8')], [array(['drinks'], dtype='<U8'), array(['checkout'], dtype='<U8')], [array(['checkout'], dtype='<U8')], [array(['dairy'], dtype='<U8'), array(['fruit'], dtype='<U8'), array(['checkout'], dtype='<U8')], [array(['fruit'], dtype='<U8'), array(['fruit'], dtype='<U8'), array(['dairy'], dtype='<U8'), array(['checkout'], dtype='<U8')], [array(['spices'], dtype='<U8'), array(['checkout'], dtype='<U8')], [array(['checkout'], dtype='<U8')], [array(['checkout'], dtype='<U8')], [array(['drinks'], dtype='<U8'), array(['checkout'], dtype='<U8')], [array(['checkout'], dtype='<U8')], [array(['spices'], dtype='<U8'), array(['fruit'], dtype='<U8'), array(['drinks'], dtype='<U8'), array(['dairy'], dtype='<U8'), array(['checkout'], dtype='<U8')], [array(['fruit'], dtype='<U8'), array(['dairy'], dtype='<U8'), array(['dairy'], dtype='<U8'), array(['drinks'], dtype='<U8'), array(['drinks'], dtype='<U8')], [array(['drinks'], dtype='<U8'), array(['fruit'], dtype='<U8'), array(['drinks'], dtype='<U8'), array(['drinks'], dtype='<U8'), array(['fruit'], dtype='<U8')]]\n",
      "[[array(['drinks'], dtype='<U8'), array(['checkout'], dtype='<U8')], [array(['spices'], dtype='<U8'), array(['fruit'], dtype='<U8'), array(['checkout'], dtype='<U8')], [array(['dairy'], dtype='<U8'), array(['dairy'], dtype='<U8'), array(['dairy'], dtype='<U8'), array(['spices'], dtype='<U8'), array(['fruit'], dtype='<U8')], [array(['drinks'], dtype='<U8'), array(['spices'], dtype='<U8'), array(['dairy'], dtype='<U8'), array(['fruit'], dtype='<U8'), array(['drinks'], dtype='<U8')], [array(['drinks'], dtype='<U8'), array(['checkout'], dtype='<U8')], [array(['fruit'], dtype='<U8'), array(['spices'], dtype='<U8'), array(['fruit'], dtype='<U8'), array(['dairy'], dtype='<U8'), array(['spices'], dtype='<U8')], [array(['checkout'], dtype='<U8')], [array(['checkout'], dtype='<U8')], [array(['spices'], dtype='<U8'), array(['checkout'], dtype='<U8')], [array(['fruit'], dtype='<U8'), array(['checkout'], dtype='<U8')], [array(['checkout'], dtype='<U8')], [array(['drinks'], dtype='<U8'), array(['checkout'], dtype='<U8')], [array(['checkout'], dtype='<U8')], [array(['checkout'], dtype='<U8')], [array(['checkout'], dtype='<U8')], [array(['checkout'], dtype='<U8')], [array(['fruit'], dtype='<U8'), array(['spices'], dtype='<U8'), array(['fruit'], dtype='<U8'), array(['checkout'], dtype='<U8')], [array(['drinks'], dtype='<U8'), array(['checkout'], dtype='<U8')], [array(['checkout'], dtype='<U8')], [array(['dairy'], dtype='<U8'), array(['fruit'], dtype='<U8'), array(['checkout'], dtype='<U8')], [array(['fruit'], dtype='<U8'), array(['fruit'], dtype='<U8'), array(['dairy'], dtype='<U8'), array(['checkout'], dtype='<U8')], [array(['spices'], dtype='<U8'), array(['checkout'], dtype='<U8')], [array(['checkout'], dtype='<U8')], [array(['checkout'], dtype='<U8')], [array(['drinks'], dtype='<U8'), array(['checkout'], dtype='<U8')], [array(['checkout'], dtype='<U8')], [array(['spices'], dtype='<U8'), array(['fruit'], dtype='<U8'), array(['drinks'], dtype='<U8'), array(['dairy'], dtype='<U8'), array(['checkout'], dtype='<U8')], [array(['fruit'], dtype='<U8'), array(['dairy'], dtype='<U8'), array(['dairy'], dtype='<U8'), array(['drinks'], dtype='<U8'), array(['drinks'], dtype='<U8')], [array(['drinks'], dtype='<U8'), array(['fruit'], dtype='<U8'), array(['drinks'], dtype='<U8'), array(['drinks'], dtype='<U8'), array(['fruit'], dtype='<U8')], [array(['drinks'], dtype='<U8'), array(['checkout'], dtype='<U8')]]\n",
      "[[array(['drinks'], dtype='<U8'), array(['checkout'], dtype='<U8')], [array(['spices'], dtype='<U8'), array(['fruit'], dtype='<U8'), array(['checkout'], dtype='<U8')], [array(['dairy'], dtype='<U8'), array(['dairy'], dtype='<U8'), array(['dairy'], dtype='<U8'), array(['spices'], dtype='<U8'), array(['fruit'], dtype='<U8')], [array(['drinks'], dtype='<U8'), array(['spices'], dtype='<U8'), array(['dairy'], dtype='<U8'), array(['fruit'], dtype='<U8'), array(['drinks'], dtype='<U8')], [array(['drinks'], dtype='<U8'), array(['checkout'], dtype='<U8')], [array(['fruit'], dtype='<U8'), array(['spices'], dtype='<U8'), array(['fruit'], dtype='<U8'), array(['dairy'], dtype='<U8'), array(['spices'], dtype='<U8')], [array(['checkout'], dtype='<U8')], [array(['checkout'], dtype='<U8')], [array(['spices'], dtype='<U8'), array(['checkout'], dtype='<U8')], [array(['fruit'], dtype='<U8'), array(['checkout'], dtype='<U8')], [array(['checkout'], dtype='<U8')], [array(['drinks'], dtype='<U8'), array(['checkout'], dtype='<U8')], [array(['checkout'], dtype='<U8')], [array(['checkout'], dtype='<U8')], [array(['checkout'], dtype='<U8')], [array(['checkout'], dtype='<U8')], [array(['fruit'], dtype='<U8'), array(['spices'], dtype='<U8'), array(['fruit'], dtype='<U8'), array(['checkout'], dtype='<U8')], [array(['drinks'], dtype='<U8'), array(['checkout'], dtype='<U8')], [array(['checkout'], dtype='<U8')], [array(['dairy'], dtype='<U8'), array(['fruit'], dtype='<U8'), array(['checkout'], dtype='<U8')], [array(['fruit'], dtype='<U8'), array(['fruit'], dtype='<U8'), array(['dairy'], dtype='<U8'), array(['checkout'], dtype='<U8')], [array(['spices'], dtype='<U8'), array(['checkout'], dtype='<U8')], [array(['checkout'], dtype='<U8')], [array(['checkout'], dtype='<U8')], [array(['drinks'], dtype='<U8'), array(['checkout'], dtype='<U8')], [array(['checkout'], dtype='<U8')], [array(['spices'], dtype='<U8'), array(['fruit'], dtype='<U8'), array(['drinks'], dtype='<U8'), array(['dairy'], dtype='<U8'), array(['checkout'], dtype='<U8')], [array(['fruit'], dtype='<U8'), array(['dairy'], dtype='<U8'), array(['dairy'], dtype='<U8'), array(['drinks'], dtype='<U8'), array(['drinks'], dtype='<U8')], [array(['drinks'], dtype='<U8'), array(['fruit'], dtype='<U8'), array(['drinks'], dtype='<U8'), array(['drinks'], dtype='<U8'), array(['fruit'], dtype='<U8')], [array(['drinks'], dtype='<U8'), array(['checkout'], dtype='<U8')], [array(['drinks'], dtype='<U8'), array(['checkout'], dtype='<U8')]]\n",
      "[[array(['drinks'], dtype='<U8'), array(['checkout'], dtype='<U8')], [array(['spices'], dtype='<U8'), array(['fruit'], dtype='<U8'), array(['checkout'], dtype='<U8')], [array(['dairy'], dtype='<U8'), array(['dairy'], dtype='<U8'), array(['dairy'], dtype='<U8'), array(['spices'], dtype='<U8'), array(['fruit'], dtype='<U8')], [array(['drinks'], dtype='<U8'), array(['spices'], dtype='<U8'), array(['dairy'], dtype='<U8'), array(['fruit'], dtype='<U8'), array(['drinks'], dtype='<U8')], [array(['drinks'], dtype='<U8'), array(['checkout'], dtype='<U8')], [array(['fruit'], dtype='<U8'), array(['spices'], dtype='<U8'), array(['fruit'], dtype='<U8'), array(['dairy'], dtype='<U8'), array(['spices'], dtype='<U8')], [array(['checkout'], dtype='<U8')], [array(['checkout'], dtype='<U8')], [array(['spices'], dtype='<U8'), array(['checkout'], dtype='<U8')], [array(['fruit'], dtype='<U8'), array(['checkout'], dtype='<U8')], [array(['checkout'], dtype='<U8')], [array(['drinks'], dtype='<U8'), array(['checkout'], dtype='<U8')], [array(['checkout'], dtype='<U8')], [array(['checkout'], dtype='<U8')], [array(['checkout'], dtype='<U8')], [array(['checkout'], dtype='<U8')], [array(['fruit'], dtype='<U8'), array(['spices'], dtype='<U8'), array(['fruit'], dtype='<U8'), array(['checkout'], dtype='<U8')], [array(['drinks'], dtype='<U8'), array(['checkout'], dtype='<U8')], [array(['checkout'], dtype='<U8')], [array(['dairy'], dtype='<U8'), array(['fruit'], dtype='<U8'), array(['checkout'], dtype='<U8')], [array(['fruit'], dtype='<U8'), array(['fruit'], dtype='<U8'), array(['dairy'], dtype='<U8'), array(['checkout'], dtype='<U8')], [array(['spices'], dtype='<U8'), array(['checkout'], dtype='<U8')], [array(['checkout'], dtype='<U8')], [array(['checkout'], dtype='<U8')], [array(['drinks'], dtype='<U8'), array(['checkout'], dtype='<U8')], [array(['checkout'], dtype='<U8')], [array(['spices'], dtype='<U8'), array(['fruit'], dtype='<U8'), array(['drinks'], dtype='<U8'), array(['dairy'], dtype='<U8'), array(['checkout'], dtype='<U8')], [array(['fruit'], dtype='<U8'), array(['dairy'], dtype='<U8'), array(['dairy'], dtype='<U8'), array(['drinks'], dtype='<U8'), array(['drinks'], dtype='<U8')], [array(['drinks'], dtype='<U8'), array(['fruit'], dtype='<U8'), array(['drinks'], dtype='<U8'), array(['drinks'], dtype='<U8'), array(['fruit'], dtype='<U8')], [array(['drinks'], dtype='<U8'), array(['checkout'], dtype='<U8')], [array(['drinks'], dtype='<U8'), array(['checkout'], dtype='<U8')], [array(['drinks'], dtype='<U8'), array(['checkout'], dtype='<U8')]]\n",
      "[[array(['drinks'], dtype='<U8'), array(['checkout'], dtype='<U8')], [array(['spices'], dtype='<U8'), array(['fruit'], dtype='<U8'), array(['checkout'], dtype='<U8')], [array(['dairy'], dtype='<U8'), array(['dairy'], dtype='<U8'), array(['dairy'], dtype='<U8'), array(['spices'], dtype='<U8'), array(['fruit'], dtype='<U8')], [array(['drinks'], dtype='<U8'), array(['spices'], dtype='<U8'), array(['dairy'], dtype='<U8'), array(['fruit'], dtype='<U8'), array(['drinks'], dtype='<U8')], [array(['drinks'], dtype='<U8'), array(['checkout'], dtype='<U8')], [array(['fruit'], dtype='<U8'), array(['spices'], dtype='<U8'), array(['fruit'], dtype='<U8'), array(['dairy'], dtype='<U8'), array(['spices'], dtype='<U8')], [array(['checkout'], dtype='<U8')], [array(['checkout'], dtype='<U8')], [array(['spices'], dtype='<U8'), array(['checkout'], dtype='<U8')], [array(['fruit'], dtype='<U8'), array(['checkout'], dtype='<U8')], [array(['checkout'], dtype='<U8')], [array(['drinks'], dtype='<U8'), array(['checkout'], dtype='<U8')], [array(['checkout'], dtype='<U8')], [array(['checkout'], dtype='<U8')], [array(['checkout'], dtype='<U8')], [array(['checkout'], dtype='<U8')], [array(['fruit'], dtype='<U8'), array(['spices'], dtype='<U8'), array(['fruit'], dtype='<U8'), array(['checkout'], dtype='<U8')], [array(['drinks'], dtype='<U8'), array(['checkout'], dtype='<U8')], [array(['checkout'], dtype='<U8')], [array(['dairy'], dtype='<U8'), array(['fruit'], dtype='<U8'), array(['checkout'], dtype='<U8')], [array(['fruit'], dtype='<U8'), array(['fruit'], dtype='<U8'), array(['dairy'], dtype='<U8'), array(['checkout'], dtype='<U8')], [array(['spices'], dtype='<U8'), array(['checkout'], dtype='<U8')], [array(['checkout'], dtype='<U8')], [array(['checkout'], dtype='<U8')], [array(['drinks'], dtype='<U8'), array(['checkout'], dtype='<U8')], [array(['checkout'], dtype='<U8')], [array(['spices'], dtype='<U8'), array(['fruit'], dtype='<U8'), array(['drinks'], dtype='<U8'), array(['dairy'], dtype='<U8'), array(['checkout'], dtype='<U8')], [array(['fruit'], dtype='<U8'), array(['dairy'], dtype='<U8'), array(['dairy'], dtype='<U8'), array(['drinks'], dtype='<U8'), array(['drinks'], dtype='<U8')], [array(['drinks'], dtype='<U8'), array(['fruit'], dtype='<U8'), array(['drinks'], dtype='<U8'), array(['drinks'], dtype='<U8'), array(['fruit'], dtype='<U8')], [array(['drinks'], dtype='<U8'), array(['checkout'], dtype='<U8')], [array(['drinks'], dtype='<U8'), array(['checkout'], dtype='<U8')], [array(['drinks'], dtype='<U8'), array(['checkout'], dtype='<U8')], [array(['spices'], dtype='<U8'), array(['drinks'], dtype='<U8'), array(['fruit'], dtype='<U8'), array(['checkout'], dtype='<U8')]]\n",
      "[[array(['drinks'], dtype='<U8'), array(['checkout'], dtype='<U8')], [array(['spices'], dtype='<U8'), array(['fruit'], dtype='<U8'), array(['checkout'], dtype='<U8')], [array(['dairy'], dtype='<U8'), array(['dairy'], dtype='<U8'), array(['dairy'], dtype='<U8'), array(['spices'], dtype='<U8'), array(['fruit'], dtype='<U8')], [array(['drinks'], dtype='<U8'), array(['spices'], dtype='<U8'), array(['dairy'], dtype='<U8'), array(['fruit'], dtype='<U8'), array(['drinks'], dtype='<U8')], [array(['drinks'], dtype='<U8'), array(['checkout'], dtype='<U8')], [array(['fruit'], dtype='<U8'), array(['spices'], dtype='<U8'), array(['fruit'], dtype='<U8'), array(['dairy'], dtype='<U8'), array(['spices'], dtype='<U8')], [array(['checkout'], dtype='<U8')], [array(['checkout'], dtype='<U8')], [array(['spices'], dtype='<U8'), array(['checkout'], dtype='<U8')], [array(['fruit'], dtype='<U8'), array(['checkout'], dtype='<U8')], [array(['checkout'], dtype='<U8')], [array(['drinks'], dtype='<U8'), array(['checkout'], dtype='<U8')], [array(['checkout'], dtype='<U8')], [array(['checkout'], dtype='<U8')], [array(['checkout'], dtype='<U8')], [array(['checkout'], dtype='<U8')], [array(['fruit'], dtype='<U8'), array(['spices'], dtype='<U8'), array(['fruit'], dtype='<U8'), array(['checkout'], dtype='<U8')], [array(['drinks'], dtype='<U8'), array(['checkout'], dtype='<U8')], [array(['checkout'], dtype='<U8')], [array(['dairy'], dtype='<U8'), array(['fruit'], dtype='<U8'), array(['checkout'], dtype='<U8')], [array(['fruit'], dtype='<U8'), array(['fruit'], dtype='<U8'), array(['dairy'], dtype='<U8'), array(['checkout'], dtype='<U8')], [array(['spices'], dtype='<U8'), array(['checkout'], dtype='<U8')], [array(['checkout'], dtype='<U8')], [array(['checkout'], dtype='<U8')], [array(['drinks'], dtype='<U8'), array(['checkout'], dtype='<U8')], [array(['checkout'], dtype='<U8')], [array(['spices'], dtype='<U8'), array(['fruit'], dtype='<U8'), array(['drinks'], dtype='<U8'), array(['dairy'], dtype='<U8'), array(['checkout'], dtype='<U8')], [array(['fruit'], dtype='<U8'), array(['dairy'], dtype='<U8'), array(['dairy'], dtype='<U8'), array(['drinks'], dtype='<U8'), array(['drinks'], dtype='<U8')], [array(['drinks'], dtype='<U8'), array(['fruit'], dtype='<U8'), array(['drinks'], dtype='<U8'), array(['drinks'], dtype='<U8'), array(['fruit'], dtype='<U8')], [array(['drinks'], dtype='<U8'), array(['checkout'], dtype='<U8')], [array(['drinks'], dtype='<U8'), array(['checkout'], dtype='<U8')], [array(['drinks'], dtype='<U8'), array(['checkout'], dtype='<U8')], [array(['spices'], dtype='<U8'), array(['drinks'], dtype='<U8'), array(['fruit'], dtype='<U8'), array(['checkout'], dtype='<U8')], [array(['dairy'], dtype='<U8'), array(['checkout'], dtype='<U8')]]\n",
      "[[array(['drinks'], dtype='<U8'), array(['checkout'], dtype='<U8')], [array(['spices'], dtype='<U8'), array(['fruit'], dtype='<U8'), array(['checkout'], dtype='<U8')], [array(['dairy'], dtype='<U8'), array(['dairy'], dtype='<U8'), array(['dairy'], dtype='<U8'), array(['spices'], dtype='<U8'), array(['fruit'], dtype='<U8')], [array(['drinks'], dtype='<U8'), array(['spices'], dtype='<U8'), array(['dairy'], dtype='<U8'), array(['fruit'], dtype='<U8'), array(['drinks'], dtype='<U8')], [array(['drinks'], dtype='<U8'), array(['checkout'], dtype='<U8')], [array(['fruit'], dtype='<U8'), array(['spices'], dtype='<U8'), array(['fruit'], dtype='<U8'), array(['dairy'], dtype='<U8'), array(['spices'], dtype='<U8')], [array(['checkout'], dtype='<U8')], [array(['checkout'], dtype='<U8')], [array(['spices'], dtype='<U8'), array(['checkout'], dtype='<U8')], [array(['fruit'], dtype='<U8'), array(['checkout'], dtype='<U8')], [array(['checkout'], dtype='<U8')], [array(['drinks'], dtype='<U8'), array(['checkout'], dtype='<U8')], [array(['checkout'], dtype='<U8')], [array(['checkout'], dtype='<U8')], [array(['checkout'], dtype='<U8')], [array(['checkout'], dtype='<U8')], [array(['fruit'], dtype='<U8'), array(['spices'], dtype='<U8'), array(['fruit'], dtype='<U8'), array(['checkout'], dtype='<U8')], [array(['drinks'], dtype='<U8'), array(['checkout'], dtype='<U8')], [array(['checkout'], dtype='<U8')], [array(['dairy'], dtype='<U8'), array(['fruit'], dtype='<U8'), array(['checkout'], dtype='<U8')], [array(['fruit'], dtype='<U8'), array(['fruit'], dtype='<U8'), array(['dairy'], dtype='<U8'), array(['checkout'], dtype='<U8')], [array(['spices'], dtype='<U8'), array(['checkout'], dtype='<U8')], [array(['checkout'], dtype='<U8')], [array(['checkout'], dtype='<U8')], [array(['drinks'], dtype='<U8'), array(['checkout'], dtype='<U8')], [array(['checkout'], dtype='<U8')], [array(['spices'], dtype='<U8'), array(['fruit'], dtype='<U8'), array(['drinks'], dtype='<U8'), array(['dairy'], dtype='<U8'), array(['checkout'], dtype='<U8')], [array(['fruit'], dtype='<U8'), array(['dairy'], dtype='<U8'), array(['dairy'], dtype='<U8'), array(['drinks'], dtype='<U8'), array(['drinks'], dtype='<U8')], [array(['drinks'], dtype='<U8'), array(['fruit'], dtype='<U8'), array(['drinks'], dtype='<U8'), array(['drinks'], dtype='<U8'), array(['fruit'], dtype='<U8')], [array(['drinks'], dtype='<U8'), array(['checkout'], dtype='<U8')], [array(['drinks'], dtype='<U8'), array(['checkout'], dtype='<U8')], [array(['drinks'], dtype='<U8'), array(['checkout'], dtype='<U8')], [array(['spices'], dtype='<U8'), array(['drinks'], dtype='<U8'), array(['fruit'], dtype='<U8'), array(['checkout'], dtype='<U8')], [array(['dairy'], dtype='<U8'), array(['checkout'], dtype='<U8')], [array(['checkout'], dtype='<U8')]]\n",
      "[[array(['drinks'], dtype='<U8'), array(['checkout'], dtype='<U8')], [array(['spices'], dtype='<U8'), array(['fruit'], dtype='<U8'), array(['checkout'], dtype='<U8')], [array(['dairy'], dtype='<U8'), array(['dairy'], dtype='<U8'), array(['dairy'], dtype='<U8'), array(['spices'], dtype='<U8'), array(['fruit'], dtype='<U8')], [array(['drinks'], dtype='<U8'), array(['spices'], dtype='<U8'), array(['dairy'], dtype='<U8'), array(['fruit'], dtype='<U8'), array(['drinks'], dtype='<U8')], [array(['drinks'], dtype='<U8'), array(['checkout'], dtype='<U8')], [array(['fruit'], dtype='<U8'), array(['spices'], dtype='<U8'), array(['fruit'], dtype='<U8'), array(['dairy'], dtype='<U8'), array(['spices'], dtype='<U8')], [array(['checkout'], dtype='<U8')], [array(['checkout'], dtype='<U8')], [array(['spices'], dtype='<U8'), array(['checkout'], dtype='<U8')], [array(['fruit'], dtype='<U8'), array(['checkout'], dtype='<U8')], [array(['checkout'], dtype='<U8')], [array(['drinks'], dtype='<U8'), array(['checkout'], dtype='<U8')], [array(['checkout'], dtype='<U8')], [array(['checkout'], dtype='<U8')], [array(['checkout'], dtype='<U8')], [array(['checkout'], dtype='<U8')], [array(['fruit'], dtype='<U8'), array(['spices'], dtype='<U8'), array(['fruit'], dtype='<U8'), array(['checkout'], dtype='<U8')], [array(['drinks'], dtype='<U8'), array(['checkout'], dtype='<U8')], [array(['checkout'], dtype='<U8')], [array(['dairy'], dtype='<U8'), array(['fruit'], dtype='<U8'), array(['checkout'], dtype='<U8')], [array(['fruit'], dtype='<U8'), array(['fruit'], dtype='<U8'), array(['dairy'], dtype='<U8'), array(['checkout'], dtype='<U8')], [array(['spices'], dtype='<U8'), array(['checkout'], dtype='<U8')], [array(['checkout'], dtype='<U8')], [array(['checkout'], dtype='<U8')], [array(['drinks'], dtype='<U8'), array(['checkout'], dtype='<U8')], [array(['checkout'], dtype='<U8')], [array(['spices'], dtype='<U8'), array(['fruit'], dtype='<U8'), array(['drinks'], dtype='<U8'), array(['dairy'], dtype='<U8'), array(['checkout'], dtype='<U8')], [array(['fruit'], dtype='<U8'), array(['dairy'], dtype='<U8'), array(['dairy'], dtype='<U8'), array(['drinks'], dtype='<U8'), array(['drinks'], dtype='<U8')], [array(['drinks'], dtype='<U8'), array(['fruit'], dtype='<U8'), array(['drinks'], dtype='<U8'), array(['drinks'], dtype='<U8'), array(['fruit'], dtype='<U8')], [array(['drinks'], dtype='<U8'), array(['checkout'], dtype='<U8')], [array(['drinks'], dtype='<U8'), array(['checkout'], dtype='<U8')], [array(['drinks'], dtype='<U8'), array(['checkout'], dtype='<U8')], [array(['spices'], dtype='<U8'), array(['drinks'], dtype='<U8'), array(['fruit'], dtype='<U8'), array(['checkout'], dtype='<U8')], [array(['dairy'], dtype='<U8'), array(['checkout'], dtype='<U8')], [array(['checkout'], dtype='<U8')], [array(['checkout'], dtype='<U8')]]\n",
      "[[array(['drinks'], dtype='<U8'), array(['checkout'], dtype='<U8')], [array(['spices'], dtype='<U8'), array(['fruit'], dtype='<U8'), array(['checkout'], dtype='<U8')], [array(['dairy'], dtype='<U8'), array(['dairy'], dtype='<U8'), array(['dairy'], dtype='<U8'), array(['spices'], dtype='<U8'), array(['fruit'], dtype='<U8')], [array(['drinks'], dtype='<U8'), array(['spices'], dtype='<U8'), array(['dairy'], dtype='<U8'), array(['fruit'], dtype='<U8'), array(['drinks'], dtype='<U8')], [array(['drinks'], dtype='<U8'), array(['checkout'], dtype='<U8')], [array(['fruit'], dtype='<U8'), array(['spices'], dtype='<U8'), array(['fruit'], dtype='<U8'), array(['dairy'], dtype='<U8'), array(['spices'], dtype='<U8')], [array(['checkout'], dtype='<U8')], [array(['checkout'], dtype='<U8')], [array(['spices'], dtype='<U8'), array(['checkout'], dtype='<U8')], [array(['fruit'], dtype='<U8'), array(['checkout'], dtype='<U8')], [array(['checkout'], dtype='<U8')], [array(['drinks'], dtype='<U8'), array(['checkout'], dtype='<U8')], [array(['checkout'], dtype='<U8')], [array(['checkout'], dtype='<U8')], [array(['checkout'], dtype='<U8')], [array(['checkout'], dtype='<U8')], [array(['fruit'], dtype='<U8'), array(['spices'], dtype='<U8'), array(['fruit'], dtype='<U8'), array(['checkout'], dtype='<U8')], [array(['drinks'], dtype='<U8'), array(['checkout'], dtype='<U8')], [array(['checkout'], dtype='<U8')], [array(['dairy'], dtype='<U8'), array(['fruit'], dtype='<U8'), array(['checkout'], dtype='<U8')], [array(['fruit'], dtype='<U8'), array(['fruit'], dtype='<U8'), array(['dairy'], dtype='<U8'), array(['checkout'], dtype='<U8')], [array(['spices'], dtype='<U8'), array(['checkout'], dtype='<U8')], [array(['checkout'], dtype='<U8')], [array(['checkout'], dtype='<U8')], [array(['drinks'], dtype='<U8'), array(['checkout'], dtype='<U8')], [array(['checkout'], dtype='<U8')], [array(['spices'], dtype='<U8'), array(['fruit'], dtype='<U8'), array(['drinks'], dtype='<U8'), array(['dairy'], dtype='<U8'), array(['checkout'], dtype='<U8')], [array(['fruit'], dtype='<U8'), array(['dairy'], dtype='<U8'), array(['dairy'], dtype='<U8'), array(['drinks'], dtype='<U8'), array(['drinks'], dtype='<U8')], [array(['drinks'], dtype='<U8'), array(['fruit'], dtype='<U8'), array(['drinks'], dtype='<U8'), array(['drinks'], dtype='<U8'), array(['fruit'], dtype='<U8')], [array(['drinks'], dtype='<U8'), array(['checkout'], dtype='<U8')], [array(['drinks'], dtype='<U8'), array(['checkout'], dtype='<U8')], [array(['drinks'], dtype='<U8'), array(['checkout'], dtype='<U8')], [array(['spices'], dtype='<U8'), array(['drinks'], dtype='<U8'), array(['fruit'], dtype='<U8'), array(['checkout'], dtype='<U8')], [array(['dairy'], dtype='<U8'), array(['checkout'], dtype='<U8')], [array(['checkout'], dtype='<U8')], [array(['checkout'], dtype='<U8')], [array(['checkout'], dtype='<U8')]]\n",
      "[[array(['drinks'], dtype='<U8'), array(['checkout'], dtype='<U8')], [array(['spices'], dtype='<U8'), array(['fruit'], dtype='<U8'), array(['checkout'], dtype='<U8')], [array(['dairy'], dtype='<U8'), array(['dairy'], dtype='<U8'), array(['dairy'], dtype='<U8'), array(['spices'], dtype='<U8'), array(['fruit'], dtype='<U8')], [array(['drinks'], dtype='<U8'), array(['spices'], dtype='<U8'), array(['dairy'], dtype='<U8'), array(['fruit'], dtype='<U8'), array(['drinks'], dtype='<U8')], [array(['drinks'], dtype='<U8'), array(['checkout'], dtype='<U8')], [array(['fruit'], dtype='<U8'), array(['spices'], dtype='<U8'), array(['fruit'], dtype='<U8'), array(['dairy'], dtype='<U8'), array(['spices'], dtype='<U8')], [array(['checkout'], dtype='<U8')], [array(['checkout'], dtype='<U8')], [array(['spices'], dtype='<U8'), array(['checkout'], dtype='<U8')], [array(['fruit'], dtype='<U8'), array(['checkout'], dtype='<U8')], [array(['checkout'], dtype='<U8')], [array(['drinks'], dtype='<U8'), array(['checkout'], dtype='<U8')], [array(['checkout'], dtype='<U8')], [array(['checkout'], dtype='<U8')], [array(['checkout'], dtype='<U8')], [array(['checkout'], dtype='<U8')], [array(['fruit'], dtype='<U8'), array(['spices'], dtype='<U8'), array(['fruit'], dtype='<U8'), array(['checkout'], dtype='<U8')], [array(['drinks'], dtype='<U8'), array(['checkout'], dtype='<U8')], [array(['checkout'], dtype='<U8')], [array(['dairy'], dtype='<U8'), array(['fruit'], dtype='<U8'), array(['checkout'], dtype='<U8')], [array(['fruit'], dtype='<U8'), array(['fruit'], dtype='<U8'), array(['dairy'], dtype='<U8'), array(['checkout'], dtype='<U8')], [array(['spices'], dtype='<U8'), array(['checkout'], dtype='<U8')], [array(['checkout'], dtype='<U8')], [array(['checkout'], dtype='<U8')], [array(['drinks'], dtype='<U8'), array(['checkout'], dtype='<U8')], [array(['checkout'], dtype='<U8')], [array(['spices'], dtype='<U8'), array(['fruit'], dtype='<U8'), array(['drinks'], dtype='<U8'), array(['dairy'], dtype='<U8'), array(['checkout'], dtype='<U8')], [array(['fruit'], dtype='<U8'), array(['dairy'], dtype='<U8'), array(['dairy'], dtype='<U8'), array(['drinks'], dtype='<U8'), array(['drinks'], dtype='<U8')], [array(['drinks'], dtype='<U8'), array(['fruit'], dtype='<U8'), array(['drinks'], dtype='<U8'), array(['drinks'], dtype='<U8'), array(['fruit'], dtype='<U8')], [array(['drinks'], dtype='<U8'), array(['checkout'], dtype='<U8')], [array(['drinks'], dtype='<U8'), array(['checkout'], dtype='<U8')], [array(['drinks'], dtype='<U8'), array(['checkout'], dtype='<U8')], [array(['spices'], dtype='<U8'), array(['drinks'], dtype='<U8'), array(['fruit'], dtype='<U8'), array(['checkout'], dtype='<U8')], [array(['dairy'], dtype='<U8'), array(['checkout'], dtype='<U8')], [array(['checkout'], dtype='<U8')], [array(['checkout'], dtype='<U8')], [array(['checkout'], dtype='<U8')], [array(['fruit'], dtype='<U8'), array(['drinks'], dtype='<U8'), array(['checkout'], dtype='<U8')]]\n",
      "[[array(['drinks'], dtype='<U8'), array(['checkout'], dtype='<U8')], [array(['spices'], dtype='<U8'), array(['fruit'], dtype='<U8'), array(['checkout'], dtype='<U8')], [array(['dairy'], dtype='<U8'), array(['dairy'], dtype='<U8'), array(['dairy'], dtype='<U8'), array(['spices'], dtype='<U8'), array(['fruit'], dtype='<U8')], [array(['drinks'], dtype='<U8'), array(['spices'], dtype='<U8'), array(['dairy'], dtype='<U8'), array(['fruit'], dtype='<U8'), array(['drinks'], dtype='<U8')], [array(['drinks'], dtype='<U8'), array(['checkout'], dtype='<U8')], [array(['fruit'], dtype='<U8'), array(['spices'], dtype='<U8'), array(['fruit'], dtype='<U8'), array(['dairy'], dtype='<U8'), array(['spices'], dtype='<U8')], [array(['checkout'], dtype='<U8')], [array(['checkout'], dtype='<U8')], [array(['spices'], dtype='<U8'), array(['checkout'], dtype='<U8')], [array(['fruit'], dtype='<U8'), array(['checkout'], dtype='<U8')], [array(['checkout'], dtype='<U8')], [array(['drinks'], dtype='<U8'), array(['checkout'], dtype='<U8')], [array(['checkout'], dtype='<U8')], [array(['checkout'], dtype='<U8')], [array(['checkout'], dtype='<U8')], [array(['checkout'], dtype='<U8')], [array(['fruit'], dtype='<U8'), array(['spices'], dtype='<U8'), array(['fruit'], dtype='<U8'), array(['checkout'], dtype='<U8')], [array(['drinks'], dtype='<U8'), array(['checkout'], dtype='<U8')], [array(['checkout'], dtype='<U8')], [array(['dairy'], dtype='<U8'), array(['fruit'], dtype='<U8'), array(['checkout'], dtype='<U8')], [array(['fruit'], dtype='<U8'), array(['fruit'], dtype='<U8'), array(['dairy'], dtype='<U8'), array(['checkout'], dtype='<U8')], [array(['spices'], dtype='<U8'), array(['checkout'], dtype='<U8')], [array(['checkout'], dtype='<U8')], [array(['checkout'], dtype='<U8')], [array(['drinks'], dtype='<U8'), array(['checkout'], dtype='<U8')], [array(['checkout'], dtype='<U8')], [array(['spices'], dtype='<U8'), array(['fruit'], dtype='<U8'), array(['drinks'], dtype='<U8'), array(['dairy'], dtype='<U8'), array(['checkout'], dtype='<U8')], [array(['fruit'], dtype='<U8'), array(['dairy'], dtype='<U8'), array(['dairy'], dtype='<U8'), array(['drinks'], dtype='<U8'), array(['drinks'], dtype='<U8')], [array(['drinks'], dtype='<U8'), array(['fruit'], dtype='<U8'), array(['drinks'], dtype='<U8'), array(['drinks'], dtype='<U8'), array(['fruit'], dtype='<U8')], [array(['drinks'], dtype='<U8'), array(['checkout'], dtype='<U8')], [array(['drinks'], dtype='<U8'), array(['checkout'], dtype='<U8')], [array(['drinks'], dtype='<U8'), array(['checkout'], dtype='<U8')], [array(['spices'], dtype='<U8'), array(['drinks'], dtype='<U8'), array(['fruit'], dtype='<U8'), array(['checkout'], dtype='<U8')], [array(['dairy'], dtype='<U8'), array(['checkout'], dtype='<U8')], [array(['checkout'], dtype='<U8')], [array(['checkout'], dtype='<U8')], [array(['checkout'], dtype='<U8')], [array(['fruit'], dtype='<U8'), array(['drinks'], dtype='<U8'), array(['checkout'], dtype='<U8')], [array(['drinks'], dtype='<U8'), array(['fruit'], dtype='<U8'), array(['dairy'], dtype='<U8'), array(['fruit'], dtype='<U8'), array(['dairy'], dtype='<U8')]]\n",
      "[[array(['drinks'], dtype='<U8'), array(['checkout'], dtype='<U8')], [array(['spices'], dtype='<U8'), array(['fruit'], dtype='<U8'), array(['checkout'], dtype='<U8')], [array(['dairy'], dtype='<U8'), array(['dairy'], dtype='<U8'), array(['dairy'], dtype='<U8'), array(['spices'], dtype='<U8'), array(['fruit'], dtype='<U8')], [array(['drinks'], dtype='<U8'), array(['spices'], dtype='<U8'), array(['dairy'], dtype='<U8'), array(['fruit'], dtype='<U8'), array(['drinks'], dtype='<U8')], [array(['drinks'], dtype='<U8'), array(['checkout'], dtype='<U8')], [array(['fruit'], dtype='<U8'), array(['spices'], dtype='<U8'), array(['fruit'], dtype='<U8'), array(['dairy'], dtype='<U8'), array(['spices'], dtype='<U8')], [array(['checkout'], dtype='<U8')], [array(['checkout'], dtype='<U8')], [array(['spices'], dtype='<U8'), array(['checkout'], dtype='<U8')], [array(['fruit'], dtype='<U8'), array(['checkout'], dtype='<U8')], [array(['checkout'], dtype='<U8')], [array(['drinks'], dtype='<U8'), array(['checkout'], dtype='<U8')], [array(['checkout'], dtype='<U8')], [array(['checkout'], dtype='<U8')], [array(['checkout'], dtype='<U8')], [array(['checkout'], dtype='<U8')], [array(['fruit'], dtype='<U8'), array(['spices'], dtype='<U8'), array(['fruit'], dtype='<U8'), array(['checkout'], dtype='<U8')], [array(['drinks'], dtype='<U8'), array(['checkout'], dtype='<U8')], [array(['checkout'], dtype='<U8')], [array(['dairy'], dtype='<U8'), array(['fruit'], dtype='<U8'), array(['checkout'], dtype='<U8')], [array(['fruit'], dtype='<U8'), array(['fruit'], dtype='<U8'), array(['dairy'], dtype='<U8'), array(['checkout'], dtype='<U8')], [array(['spices'], dtype='<U8'), array(['checkout'], dtype='<U8')], [array(['checkout'], dtype='<U8')], [array(['checkout'], dtype='<U8')], [array(['drinks'], dtype='<U8'), array(['checkout'], dtype='<U8')], [array(['checkout'], dtype='<U8')], [array(['spices'], dtype='<U8'), array(['fruit'], dtype='<U8'), array(['drinks'], dtype='<U8'), array(['dairy'], dtype='<U8'), array(['checkout'], dtype='<U8')], [array(['fruit'], dtype='<U8'), array(['dairy'], dtype='<U8'), array(['dairy'], dtype='<U8'), array(['drinks'], dtype='<U8'), array(['drinks'], dtype='<U8')], [array(['drinks'], dtype='<U8'), array(['fruit'], dtype='<U8'), array(['drinks'], dtype='<U8'), array(['drinks'], dtype='<U8'), array(['fruit'], dtype='<U8')], [array(['drinks'], dtype='<U8'), array(['checkout'], dtype='<U8')], [array(['drinks'], dtype='<U8'), array(['checkout'], dtype='<U8')], [array(['drinks'], dtype='<U8'), array(['checkout'], dtype='<U8')], [array(['spices'], dtype='<U8'), array(['drinks'], dtype='<U8'), array(['fruit'], dtype='<U8'), array(['checkout'], dtype='<U8')], [array(['dairy'], dtype='<U8'), array(['checkout'], dtype='<U8')], [array(['checkout'], dtype='<U8')], [array(['checkout'], dtype='<U8')], [array(['checkout'], dtype='<U8')], [array(['fruit'], dtype='<U8'), array(['drinks'], dtype='<U8'), array(['checkout'], dtype='<U8')], [array(['drinks'], dtype='<U8'), array(['fruit'], dtype='<U8'), array(['dairy'], dtype='<U8'), array(['fruit'], dtype='<U8'), array(['dairy'], dtype='<U8')], [array(['fruit'], dtype='<U8'), array(['spices'], dtype='<U8'), array(['checkout'], dtype='<U8')]]\n",
      "[[array(['drinks'], dtype='<U8'), array(['checkout'], dtype='<U8')], [array(['spices'], dtype='<U8'), array(['fruit'], dtype='<U8'), array(['checkout'], dtype='<U8')], [array(['dairy'], dtype='<U8'), array(['dairy'], dtype='<U8'), array(['dairy'], dtype='<U8'), array(['spices'], dtype='<U8'), array(['fruit'], dtype='<U8')], [array(['drinks'], dtype='<U8'), array(['spices'], dtype='<U8'), array(['dairy'], dtype='<U8'), array(['fruit'], dtype='<U8'), array(['drinks'], dtype='<U8')], [array(['drinks'], dtype='<U8'), array(['checkout'], dtype='<U8')], [array(['fruit'], dtype='<U8'), array(['spices'], dtype='<U8'), array(['fruit'], dtype='<U8'), array(['dairy'], dtype='<U8'), array(['spices'], dtype='<U8')], [array(['checkout'], dtype='<U8')], [array(['checkout'], dtype='<U8')], [array(['spices'], dtype='<U8'), array(['checkout'], dtype='<U8')], [array(['fruit'], dtype='<U8'), array(['checkout'], dtype='<U8')], [array(['checkout'], dtype='<U8')], [array(['drinks'], dtype='<U8'), array(['checkout'], dtype='<U8')], [array(['checkout'], dtype='<U8')], [array(['checkout'], dtype='<U8')], [array(['checkout'], dtype='<U8')], [array(['checkout'], dtype='<U8')], [array(['fruit'], dtype='<U8'), array(['spices'], dtype='<U8'), array(['fruit'], dtype='<U8'), array(['checkout'], dtype='<U8')], [array(['drinks'], dtype='<U8'), array(['checkout'], dtype='<U8')], [array(['checkout'], dtype='<U8')], [array(['dairy'], dtype='<U8'), array(['fruit'], dtype='<U8'), array(['checkout'], dtype='<U8')], [array(['fruit'], dtype='<U8'), array(['fruit'], dtype='<U8'), array(['dairy'], dtype='<U8'), array(['checkout'], dtype='<U8')], [array(['spices'], dtype='<U8'), array(['checkout'], dtype='<U8')], [array(['checkout'], dtype='<U8')], [array(['checkout'], dtype='<U8')], [array(['drinks'], dtype='<U8'), array(['checkout'], dtype='<U8')], [array(['checkout'], dtype='<U8')], [array(['spices'], dtype='<U8'), array(['fruit'], dtype='<U8'), array(['drinks'], dtype='<U8'), array(['dairy'], dtype='<U8'), array(['checkout'], dtype='<U8')], [array(['fruit'], dtype='<U8'), array(['dairy'], dtype='<U8'), array(['dairy'], dtype='<U8'), array(['drinks'], dtype='<U8'), array(['drinks'], dtype='<U8')], [array(['drinks'], dtype='<U8'), array(['fruit'], dtype='<U8'), array(['drinks'], dtype='<U8'), array(['drinks'], dtype='<U8'), array(['fruit'], dtype='<U8')], [array(['drinks'], dtype='<U8'), array(['checkout'], dtype='<U8')], [array(['drinks'], dtype='<U8'), array(['checkout'], dtype='<U8')], [array(['drinks'], dtype='<U8'), array(['checkout'], dtype='<U8')], [array(['spices'], dtype='<U8'), array(['drinks'], dtype='<U8'), array(['fruit'], dtype='<U8'), array(['checkout'], dtype='<U8')], [array(['dairy'], dtype='<U8'), array(['checkout'], dtype='<U8')], [array(['checkout'], dtype='<U8')], [array(['checkout'], dtype='<U8')], [array(['checkout'], dtype='<U8')], [array(['fruit'], dtype='<U8'), array(['drinks'], dtype='<U8'), array(['checkout'], dtype='<U8')], [array(['drinks'], dtype='<U8'), array(['fruit'], dtype='<U8'), array(['dairy'], dtype='<U8'), array(['fruit'], dtype='<U8'), array(['dairy'], dtype='<U8')], [array(['fruit'], dtype='<U8'), array(['spices'], dtype='<U8'), array(['checkout'], dtype='<U8')], [array(['checkout'], dtype='<U8')]]\n"
     ]
    },
    {
     "name": "stdout",
     "output_type": "stream",
     "text": [
      "[[array(['drinks'], dtype='<U8'), array(['checkout'], dtype='<U8')], [array(['spices'], dtype='<U8'), array(['fruit'], dtype='<U8'), array(['checkout'], dtype='<U8')], [array(['dairy'], dtype='<U8'), array(['dairy'], dtype='<U8'), array(['dairy'], dtype='<U8'), array(['spices'], dtype='<U8'), array(['fruit'], dtype='<U8')], [array(['drinks'], dtype='<U8'), array(['spices'], dtype='<U8'), array(['dairy'], dtype='<U8'), array(['fruit'], dtype='<U8'), array(['drinks'], dtype='<U8')], [array(['drinks'], dtype='<U8'), array(['checkout'], dtype='<U8')], [array(['fruit'], dtype='<U8'), array(['spices'], dtype='<U8'), array(['fruit'], dtype='<U8'), array(['dairy'], dtype='<U8'), array(['spices'], dtype='<U8')], [array(['checkout'], dtype='<U8')], [array(['checkout'], dtype='<U8')], [array(['spices'], dtype='<U8'), array(['checkout'], dtype='<U8')], [array(['fruit'], dtype='<U8'), array(['checkout'], dtype='<U8')], [array(['checkout'], dtype='<U8')], [array(['drinks'], dtype='<U8'), array(['checkout'], dtype='<U8')], [array(['checkout'], dtype='<U8')], [array(['checkout'], dtype='<U8')], [array(['checkout'], dtype='<U8')], [array(['checkout'], dtype='<U8')], [array(['fruit'], dtype='<U8'), array(['spices'], dtype='<U8'), array(['fruit'], dtype='<U8'), array(['checkout'], dtype='<U8')], [array(['drinks'], dtype='<U8'), array(['checkout'], dtype='<U8')], [array(['checkout'], dtype='<U8')], [array(['dairy'], dtype='<U8'), array(['fruit'], dtype='<U8'), array(['checkout'], dtype='<U8')], [array(['fruit'], dtype='<U8'), array(['fruit'], dtype='<U8'), array(['dairy'], dtype='<U8'), array(['checkout'], dtype='<U8')], [array(['spices'], dtype='<U8'), array(['checkout'], dtype='<U8')], [array(['checkout'], dtype='<U8')], [array(['checkout'], dtype='<U8')], [array(['drinks'], dtype='<U8'), array(['checkout'], dtype='<U8')], [array(['checkout'], dtype='<U8')], [array(['spices'], dtype='<U8'), array(['fruit'], dtype='<U8'), array(['drinks'], dtype='<U8'), array(['dairy'], dtype='<U8'), array(['checkout'], dtype='<U8')], [array(['fruit'], dtype='<U8'), array(['dairy'], dtype='<U8'), array(['dairy'], dtype='<U8'), array(['drinks'], dtype='<U8'), array(['drinks'], dtype='<U8')], [array(['drinks'], dtype='<U8'), array(['fruit'], dtype='<U8'), array(['drinks'], dtype='<U8'), array(['drinks'], dtype='<U8'), array(['fruit'], dtype='<U8')], [array(['drinks'], dtype='<U8'), array(['checkout'], dtype='<U8')], [array(['drinks'], dtype='<U8'), array(['checkout'], dtype='<U8')], [array(['drinks'], dtype='<U8'), array(['checkout'], dtype='<U8')], [array(['spices'], dtype='<U8'), array(['drinks'], dtype='<U8'), array(['fruit'], dtype='<U8'), array(['checkout'], dtype='<U8')], [array(['dairy'], dtype='<U8'), array(['checkout'], dtype='<U8')], [array(['checkout'], dtype='<U8')], [array(['checkout'], dtype='<U8')], [array(['checkout'], dtype='<U8')], [array(['fruit'], dtype='<U8'), array(['drinks'], dtype='<U8'), array(['checkout'], dtype='<U8')], [array(['drinks'], dtype='<U8'), array(['fruit'], dtype='<U8'), array(['dairy'], dtype='<U8'), array(['fruit'], dtype='<U8'), array(['dairy'], dtype='<U8')], [array(['fruit'], dtype='<U8'), array(['spices'], dtype='<U8'), array(['checkout'], dtype='<U8')], [array(['checkout'], dtype='<U8')], [array(['checkout'], dtype='<U8')]]\n",
      "[[array(['drinks'], dtype='<U8'), array(['checkout'], dtype='<U8')], [array(['spices'], dtype='<U8'), array(['fruit'], dtype='<U8'), array(['checkout'], dtype='<U8')], [array(['dairy'], dtype='<U8'), array(['dairy'], dtype='<U8'), array(['dairy'], dtype='<U8'), array(['spices'], dtype='<U8'), array(['fruit'], dtype='<U8')], [array(['drinks'], dtype='<U8'), array(['spices'], dtype='<U8'), array(['dairy'], dtype='<U8'), array(['fruit'], dtype='<U8'), array(['drinks'], dtype='<U8')], [array(['drinks'], dtype='<U8'), array(['checkout'], dtype='<U8')], [array(['fruit'], dtype='<U8'), array(['spices'], dtype='<U8'), array(['fruit'], dtype='<U8'), array(['dairy'], dtype='<U8'), array(['spices'], dtype='<U8')], [array(['checkout'], dtype='<U8')], [array(['checkout'], dtype='<U8')], [array(['spices'], dtype='<U8'), array(['checkout'], dtype='<U8')], [array(['fruit'], dtype='<U8'), array(['checkout'], dtype='<U8')], [array(['checkout'], dtype='<U8')], [array(['drinks'], dtype='<U8'), array(['checkout'], dtype='<U8')], [array(['checkout'], dtype='<U8')], [array(['checkout'], dtype='<U8')], [array(['checkout'], dtype='<U8')], [array(['checkout'], dtype='<U8')], [array(['fruit'], dtype='<U8'), array(['spices'], dtype='<U8'), array(['fruit'], dtype='<U8'), array(['checkout'], dtype='<U8')], [array(['drinks'], dtype='<U8'), array(['checkout'], dtype='<U8')], [array(['checkout'], dtype='<U8')], [array(['dairy'], dtype='<U8'), array(['fruit'], dtype='<U8'), array(['checkout'], dtype='<U8')], [array(['fruit'], dtype='<U8'), array(['fruit'], dtype='<U8'), array(['dairy'], dtype='<U8'), array(['checkout'], dtype='<U8')], [array(['spices'], dtype='<U8'), array(['checkout'], dtype='<U8')], [array(['checkout'], dtype='<U8')], [array(['checkout'], dtype='<U8')], [array(['drinks'], dtype='<U8'), array(['checkout'], dtype='<U8')], [array(['checkout'], dtype='<U8')], [array(['spices'], dtype='<U8'), array(['fruit'], dtype='<U8'), array(['drinks'], dtype='<U8'), array(['dairy'], dtype='<U8'), array(['checkout'], dtype='<U8')], [array(['fruit'], dtype='<U8'), array(['dairy'], dtype='<U8'), array(['dairy'], dtype='<U8'), array(['drinks'], dtype='<U8'), array(['drinks'], dtype='<U8')], [array(['drinks'], dtype='<U8'), array(['fruit'], dtype='<U8'), array(['drinks'], dtype='<U8'), array(['drinks'], dtype='<U8'), array(['fruit'], dtype='<U8')], [array(['drinks'], dtype='<U8'), array(['checkout'], dtype='<U8')], [array(['drinks'], dtype='<U8'), array(['checkout'], dtype='<U8')], [array(['drinks'], dtype='<U8'), array(['checkout'], dtype='<U8')], [array(['spices'], dtype='<U8'), array(['drinks'], dtype='<U8'), array(['fruit'], dtype='<U8'), array(['checkout'], dtype='<U8')], [array(['dairy'], dtype='<U8'), array(['checkout'], dtype='<U8')], [array(['checkout'], dtype='<U8')], [array(['checkout'], dtype='<U8')], [array(['checkout'], dtype='<U8')], [array(['fruit'], dtype='<U8'), array(['drinks'], dtype='<U8'), array(['checkout'], dtype='<U8')], [array(['drinks'], dtype='<U8'), array(['fruit'], dtype='<U8'), array(['dairy'], dtype='<U8'), array(['fruit'], dtype='<U8'), array(['dairy'], dtype='<U8')], [array(['fruit'], dtype='<U8'), array(['spices'], dtype='<U8'), array(['checkout'], dtype='<U8')], [array(['checkout'], dtype='<U8')], [array(['checkout'], dtype='<U8')], [array(['checkout'], dtype='<U8')]]\n",
      "[[array(['drinks'], dtype='<U8'), array(['checkout'], dtype='<U8')], [array(['spices'], dtype='<U8'), array(['fruit'], dtype='<U8'), array(['checkout'], dtype='<U8')], [array(['dairy'], dtype='<U8'), array(['dairy'], dtype='<U8'), array(['dairy'], dtype='<U8'), array(['spices'], dtype='<U8'), array(['fruit'], dtype='<U8')], [array(['drinks'], dtype='<U8'), array(['spices'], dtype='<U8'), array(['dairy'], dtype='<U8'), array(['fruit'], dtype='<U8'), array(['drinks'], dtype='<U8')], [array(['drinks'], dtype='<U8'), array(['checkout'], dtype='<U8')], [array(['fruit'], dtype='<U8'), array(['spices'], dtype='<U8'), array(['fruit'], dtype='<U8'), array(['dairy'], dtype='<U8'), array(['spices'], dtype='<U8')], [array(['checkout'], dtype='<U8')], [array(['checkout'], dtype='<U8')], [array(['spices'], dtype='<U8'), array(['checkout'], dtype='<U8')], [array(['fruit'], dtype='<U8'), array(['checkout'], dtype='<U8')], [array(['checkout'], dtype='<U8')], [array(['drinks'], dtype='<U8'), array(['checkout'], dtype='<U8')], [array(['checkout'], dtype='<U8')], [array(['checkout'], dtype='<U8')], [array(['checkout'], dtype='<U8')], [array(['checkout'], dtype='<U8')], [array(['fruit'], dtype='<U8'), array(['spices'], dtype='<U8'), array(['fruit'], dtype='<U8'), array(['checkout'], dtype='<U8')], [array(['drinks'], dtype='<U8'), array(['checkout'], dtype='<U8')], [array(['checkout'], dtype='<U8')], [array(['dairy'], dtype='<U8'), array(['fruit'], dtype='<U8'), array(['checkout'], dtype='<U8')], [array(['fruit'], dtype='<U8'), array(['fruit'], dtype='<U8'), array(['dairy'], dtype='<U8'), array(['checkout'], dtype='<U8')], [array(['spices'], dtype='<U8'), array(['checkout'], dtype='<U8')], [array(['checkout'], dtype='<U8')], [array(['checkout'], dtype='<U8')], [array(['drinks'], dtype='<U8'), array(['checkout'], dtype='<U8')], [array(['checkout'], dtype='<U8')], [array(['spices'], dtype='<U8'), array(['fruit'], dtype='<U8'), array(['drinks'], dtype='<U8'), array(['dairy'], dtype='<U8'), array(['checkout'], dtype='<U8')], [array(['fruit'], dtype='<U8'), array(['dairy'], dtype='<U8'), array(['dairy'], dtype='<U8'), array(['drinks'], dtype='<U8'), array(['drinks'], dtype='<U8')], [array(['drinks'], dtype='<U8'), array(['fruit'], dtype='<U8'), array(['drinks'], dtype='<U8'), array(['drinks'], dtype='<U8'), array(['fruit'], dtype='<U8')], [array(['drinks'], dtype='<U8'), array(['checkout'], dtype='<U8')], [array(['drinks'], dtype='<U8'), array(['checkout'], dtype='<U8')], [array(['drinks'], dtype='<U8'), array(['checkout'], dtype='<U8')], [array(['spices'], dtype='<U8'), array(['drinks'], dtype='<U8'), array(['fruit'], dtype='<U8'), array(['checkout'], dtype='<U8')], [array(['dairy'], dtype='<U8'), array(['checkout'], dtype='<U8')], [array(['checkout'], dtype='<U8')], [array(['checkout'], dtype='<U8')], [array(['checkout'], dtype='<U8')], [array(['fruit'], dtype='<U8'), array(['drinks'], dtype='<U8'), array(['checkout'], dtype='<U8')], [array(['drinks'], dtype='<U8'), array(['fruit'], dtype='<U8'), array(['dairy'], dtype='<U8'), array(['fruit'], dtype='<U8'), array(['dairy'], dtype='<U8')], [array(['fruit'], dtype='<U8'), array(['spices'], dtype='<U8'), array(['checkout'], dtype='<U8')], [array(['checkout'], dtype='<U8')], [array(['checkout'], dtype='<U8')], [array(['checkout'], dtype='<U8')], [array(['checkout'], dtype='<U8')]]\n",
      "[[array(['drinks'], dtype='<U8'), array(['checkout'], dtype='<U8')], [array(['spices'], dtype='<U8'), array(['fruit'], dtype='<U8'), array(['checkout'], dtype='<U8')], [array(['dairy'], dtype='<U8'), array(['dairy'], dtype='<U8'), array(['dairy'], dtype='<U8'), array(['spices'], dtype='<U8'), array(['fruit'], dtype='<U8')], [array(['drinks'], dtype='<U8'), array(['spices'], dtype='<U8'), array(['dairy'], dtype='<U8'), array(['fruit'], dtype='<U8'), array(['drinks'], dtype='<U8')], [array(['drinks'], dtype='<U8'), array(['checkout'], dtype='<U8')], [array(['fruit'], dtype='<U8'), array(['spices'], dtype='<U8'), array(['fruit'], dtype='<U8'), array(['dairy'], dtype='<U8'), array(['spices'], dtype='<U8')], [array(['checkout'], dtype='<U8')], [array(['checkout'], dtype='<U8')], [array(['spices'], dtype='<U8'), array(['checkout'], dtype='<U8')], [array(['fruit'], dtype='<U8'), array(['checkout'], dtype='<U8')], [array(['checkout'], dtype='<U8')], [array(['drinks'], dtype='<U8'), array(['checkout'], dtype='<U8')], [array(['checkout'], dtype='<U8')], [array(['checkout'], dtype='<U8')], [array(['checkout'], dtype='<U8')], [array(['checkout'], dtype='<U8')], [array(['fruit'], dtype='<U8'), array(['spices'], dtype='<U8'), array(['fruit'], dtype='<U8'), array(['checkout'], dtype='<U8')], [array(['drinks'], dtype='<U8'), array(['checkout'], dtype='<U8')], [array(['checkout'], dtype='<U8')], [array(['dairy'], dtype='<U8'), array(['fruit'], dtype='<U8'), array(['checkout'], dtype='<U8')], [array(['fruit'], dtype='<U8'), array(['fruit'], dtype='<U8'), array(['dairy'], dtype='<U8'), array(['checkout'], dtype='<U8')], [array(['spices'], dtype='<U8'), array(['checkout'], dtype='<U8')], [array(['checkout'], dtype='<U8')], [array(['checkout'], dtype='<U8')], [array(['drinks'], dtype='<U8'), array(['checkout'], dtype='<U8')], [array(['checkout'], dtype='<U8')], [array(['spices'], dtype='<U8'), array(['fruit'], dtype='<U8'), array(['drinks'], dtype='<U8'), array(['dairy'], dtype='<U8'), array(['checkout'], dtype='<U8')], [array(['fruit'], dtype='<U8'), array(['dairy'], dtype='<U8'), array(['dairy'], dtype='<U8'), array(['drinks'], dtype='<U8'), array(['drinks'], dtype='<U8')], [array(['drinks'], dtype='<U8'), array(['fruit'], dtype='<U8'), array(['drinks'], dtype='<U8'), array(['drinks'], dtype='<U8'), array(['fruit'], dtype='<U8')], [array(['drinks'], dtype='<U8'), array(['checkout'], dtype='<U8')], [array(['drinks'], dtype='<U8'), array(['checkout'], dtype='<U8')], [array(['drinks'], dtype='<U8'), array(['checkout'], dtype='<U8')], [array(['spices'], dtype='<U8'), array(['drinks'], dtype='<U8'), array(['fruit'], dtype='<U8'), array(['checkout'], dtype='<U8')], [array(['dairy'], dtype='<U8'), array(['checkout'], dtype='<U8')], [array(['checkout'], dtype='<U8')], [array(['checkout'], dtype='<U8')], [array(['checkout'], dtype='<U8')], [array(['fruit'], dtype='<U8'), array(['drinks'], dtype='<U8'), array(['checkout'], dtype='<U8')], [array(['drinks'], dtype='<U8'), array(['fruit'], dtype='<U8'), array(['dairy'], dtype='<U8'), array(['fruit'], dtype='<U8'), array(['dairy'], dtype='<U8')], [array(['fruit'], dtype='<U8'), array(['spices'], dtype='<U8'), array(['checkout'], dtype='<U8')], [array(['checkout'], dtype='<U8')], [array(['checkout'], dtype='<U8')], [array(['checkout'], dtype='<U8')], [array(['checkout'], dtype='<U8')], [array(['fruit'], dtype='<U8'), array(['fruit'], dtype='<U8'), array(['fruit'], dtype='<U8'), array(['dairy'], dtype='<U8'), array(['drinks'], dtype='<U8')]]\n",
      "[[array(['drinks'], dtype='<U8'), array(['checkout'], dtype='<U8')], [array(['spices'], dtype='<U8'), array(['fruit'], dtype='<U8'), array(['checkout'], dtype='<U8')], [array(['dairy'], dtype='<U8'), array(['dairy'], dtype='<U8'), array(['dairy'], dtype='<U8'), array(['spices'], dtype='<U8'), array(['fruit'], dtype='<U8')], [array(['drinks'], dtype='<U8'), array(['spices'], dtype='<U8'), array(['dairy'], dtype='<U8'), array(['fruit'], dtype='<U8'), array(['drinks'], dtype='<U8')], [array(['drinks'], dtype='<U8'), array(['checkout'], dtype='<U8')], [array(['fruit'], dtype='<U8'), array(['spices'], dtype='<U8'), array(['fruit'], dtype='<U8'), array(['dairy'], dtype='<U8'), array(['spices'], dtype='<U8')], [array(['checkout'], dtype='<U8')], [array(['checkout'], dtype='<U8')], [array(['spices'], dtype='<U8'), array(['checkout'], dtype='<U8')], [array(['fruit'], dtype='<U8'), array(['checkout'], dtype='<U8')], [array(['checkout'], dtype='<U8')], [array(['drinks'], dtype='<U8'), array(['checkout'], dtype='<U8')], [array(['checkout'], dtype='<U8')], [array(['checkout'], dtype='<U8')], [array(['checkout'], dtype='<U8')], [array(['checkout'], dtype='<U8')], [array(['fruit'], dtype='<U8'), array(['spices'], dtype='<U8'), array(['fruit'], dtype='<U8'), array(['checkout'], dtype='<U8')], [array(['drinks'], dtype='<U8'), array(['checkout'], dtype='<U8')], [array(['checkout'], dtype='<U8')], [array(['dairy'], dtype='<U8'), array(['fruit'], dtype='<U8'), array(['checkout'], dtype='<U8')], [array(['fruit'], dtype='<U8'), array(['fruit'], dtype='<U8'), array(['dairy'], dtype='<U8'), array(['checkout'], dtype='<U8')], [array(['spices'], dtype='<U8'), array(['checkout'], dtype='<U8')], [array(['checkout'], dtype='<U8')], [array(['checkout'], dtype='<U8')], [array(['drinks'], dtype='<U8'), array(['checkout'], dtype='<U8')], [array(['checkout'], dtype='<U8')], [array(['spices'], dtype='<U8'), array(['fruit'], dtype='<U8'), array(['drinks'], dtype='<U8'), array(['dairy'], dtype='<U8'), array(['checkout'], dtype='<U8')], [array(['fruit'], dtype='<U8'), array(['dairy'], dtype='<U8'), array(['dairy'], dtype='<U8'), array(['drinks'], dtype='<U8'), array(['drinks'], dtype='<U8')], [array(['drinks'], dtype='<U8'), array(['fruit'], dtype='<U8'), array(['drinks'], dtype='<U8'), array(['drinks'], dtype='<U8'), array(['fruit'], dtype='<U8')], [array(['drinks'], dtype='<U8'), array(['checkout'], dtype='<U8')], [array(['drinks'], dtype='<U8'), array(['checkout'], dtype='<U8')], [array(['drinks'], dtype='<U8'), array(['checkout'], dtype='<U8')], [array(['spices'], dtype='<U8'), array(['drinks'], dtype='<U8'), array(['fruit'], dtype='<U8'), array(['checkout'], dtype='<U8')], [array(['dairy'], dtype='<U8'), array(['checkout'], dtype='<U8')], [array(['checkout'], dtype='<U8')], [array(['checkout'], dtype='<U8')], [array(['checkout'], dtype='<U8')], [array(['fruit'], dtype='<U8'), array(['drinks'], dtype='<U8'), array(['checkout'], dtype='<U8')], [array(['drinks'], dtype='<U8'), array(['fruit'], dtype='<U8'), array(['dairy'], dtype='<U8'), array(['fruit'], dtype='<U8'), array(['dairy'], dtype='<U8')], [array(['fruit'], dtype='<U8'), array(['spices'], dtype='<U8'), array(['checkout'], dtype='<U8')], [array(['checkout'], dtype='<U8')], [array(['checkout'], dtype='<U8')], [array(['checkout'], dtype='<U8')], [array(['checkout'], dtype='<U8')], [array(['fruit'], dtype='<U8'), array(['fruit'], dtype='<U8'), array(['fruit'], dtype='<U8'), array(['dairy'], dtype='<U8'), array(['drinks'], dtype='<U8')], [array(['checkout'], dtype='<U8')]]\n",
      "[[array(['drinks'], dtype='<U8'), array(['checkout'], dtype='<U8')], [array(['spices'], dtype='<U8'), array(['fruit'], dtype='<U8'), array(['checkout'], dtype='<U8')], [array(['dairy'], dtype='<U8'), array(['dairy'], dtype='<U8'), array(['dairy'], dtype='<U8'), array(['spices'], dtype='<U8'), array(['fruit'], dtype='<U8')], [array(['drinks'], dtype='<U8'), array(['spices'], dtype='<U8'), array(['dairy'], dtype='<U8'), array(['fruit'], dtype='<U8'), array(['drinks'], dtype='<U8')], [array(['drinks'], dtype='<U8'), array(['checkout'], dtype='<U8')], [array(['fruit'], dtype='<U8'), array(['spices'], dtype='<U8'), array(['fruit'], dtype='<U8'), array(['dairy'], dtype='<U8'), array(['spices'], dtype='<U8')], [array(['checkout'], dtype='<U8')], [array(['checkout'], dtype='<U8')], [array(['spices'], dtype='<U8'), array(['checkout'], dtype='<U8')], [array(['fruit'], dtype='<U8'), array(['checkout'], dtype='<U8')], [array(['checkout'], dtype='<U8')], [array(['drinks'], dtype='<U8'), array(['checkout'], dtype='<U8')], [array(['checkout'], dtype='<U8')], [array(['checkout'], dtype='<U8')], [array(['checkout'], dtype='<U8')], [array(['checkout'], dtype='<U8')], [array(['fruit'], dtype='<U8'), array(['spices'], dtype='<U8'), array(['fruit'], dtype='<U8'), array(['checkout'], dtype='<U8')], [array(['drinks'], dtype='<U8'), array(['checkout'], dtype='<U8')], [array(['checkout'], dtype='<U8')], [array(['dairy'], dtype='<U8'), array(['fruit'], dtype='<U8'), array(['checkout'], dtype='<U8')], [array(['fruit'], dtype='<U8'), array(['fruit'], dtype='<U8'), array(['dairy'], dtype='<U8'), array(['checkout'], dtype='<U8')], [array(['spices'], dtype='<U8'), array(['checkout'], dtype='<U8')], [array(['checkout'], dtype='<U8')], [array(['checkout'], dtype='<U8')], [array(['drinks'], dtype='<U8'), array(['checkout'], dtype='<U8')], [array(['checkout'], dtype='<U8')], [array(['spices'], dtype='<U8'), array(['fruit'], dtype='<U8'), array(['drinks'], dtype='<U8'), array(['dairy'], dtype='<U8'), array(['checkout'], dtype='<U8')], [array(['fruit'], dtype='<U8'), array(['dairy'], dtype='<U8'), array(['dairy'], dtype='<U8'), array(['drinks'], dtype='<U8'), array(['drinks'], dtype='<U8')], [array(['drinks'], dtype='<U8'), array(['fruit'], dtype='<U8'), array(['drinks'], dtype='<U8'), array(['drinks'], dtype='<U8'), array(['fruit'], dtype='<U8')], [array(['drinks'], dtype='<U8'), array(['checkout'], dtype='<U8')], [array(['drinks'], dtype='<U8'), array(['checkout'], dtype='<U8')], [array(['drinks'], dtype='<U8'), array(['checkout'], dtype='<U8')], [array(['spices'], dtype='<U8'), array(['drinks'], dtype='<U8'), array(['fruit'], dtype='<U8'), array(['checkout'], dtype='<U8')], [array(['dairy'], dtype='<U8'), array(['checkout'], dtype='<U8')], [array(['checkout'], dtype='<U8')], [array(['checkout'], dtype='<U8')], [array(['checkout'], dtype='<U8')], [array(['fruit'], dtype='<U8'), array(['drinks'], dtype='<U8'), array(['checkout'], dtype='<U8')], [array(['drinks'], dtype='<U8'), array(['fruit'], dtype='<U8'), array(['dairy'], dtype='<U8'), array(['fruit'], dtype='<U8'), array(['dairy'], dtype='<U8')], [array(['fruit'], dtype='<U8'), array(['spices'], dtype='<U8'), array(['checkout'], dtype='<U8')], [array(['checkout'], dtype='<U8')], [array(['checkout'], dtype='<U8')], [array(['checkout'], dtype='<U8')], [array(['checkout'], dtype='<U8')], [array(['fruit'], dtype='<U8'), array(['fruit'], dtype='<U8'), array(['fruit'], dtype='<U8'), array(['dairy'], dtype='<U8'), array(['drinks'], dtype='<U8')], [array(['checkout'], dtype='<U8')], [array(['fruit'], dtype='<U8'), array(['checkout'], dtype='<U8')]]\n",
      "[[array(['drinks'], dtype='<U8'), array(['checkout'], dtype='<U8')], [array(['spices'], dtype='<U8'), array(['fruit'], dtype='<U8'), array(['checkout'], dtype='<U8')], [array(['dairy'], dtype='<U8'), array(['dairy'], dtype='<U8'), array(['dairy'], dtype='<U8'), array(['spices'], dtype='<U8'), array(['fruit'], dtype='<U8')], [array(['drinks'], dtype='<U8'), array(['spices'], dtype='<U8'), array(['dairy'], dtype='<U8'), array(['fruit'], dtype='<U8'), array(['drinks'], dtype='<U8')], [array(['drinks'], dtype='<U8'), array(['checkout'], dtype='<U8')], [array(['fruit'], dtype='<U8'), array(['spices'], dtype='<U8'), array(['fruit'], dtype='<U8'), array(['dairy'], dtype='<U8'), array(['spices'], dtype='<U8')], [array(['checkout'], dtype='<U8')], [array(['checkout'], dtype='<U8')], [array(['spices'], dtype='<U8'), array(['checkout'], dtype='<U8')], [array(['fruit'], dtype='<U8'), array(['checkout'], dtype='<U8')], [array(['checkout'], dtype='<U8')], [array(['drinks'], dtype='<U8'), array(['checkout'], dtype='<U8')], [array(['checkout'], dtype='<U8')], [array(['checkout'], dtype='<U8')], [array(['checkout'], dtype='<U8')], [array(['checkout'], dtype='<U8')], [array(['fruit'], dtype='<U8'), array(['spices'], dtype='<U8'), array(['fruit'], dtype='<U8'), array(['checkout'], dtype='<U8')], [array(['drinks'], dtype='<U8'), array(['checkout'], dtype='<U8')], [array(['checkout'], dtype='<U8')], [array(['dairy'], dtype='<U8'), array(['fruit'], dtype='<U8'), array(['checkout'], dtype='<U8')], [array(['fruit'], dtype='<U8'), array(['fruit'], dtype='<U8'), array(['dairy'], dtype='<U8'), array(['checkout'], dtype='<U8')], [array(['spices'], dtype='<U8'), array(['checkout'], dtype='<U8')], [array(['checkout'], dtype='<U8')], [array(['checkout'], dtype='<U8')], [array(['drinks'], dtype='<U8'), array(['checkout'], dtype='<U8')], [array(['checkout'], dtype='<U8')], [array(['spices'], dtype='<U8'), array(['fruit'], dtype='<U8'), array(['drinks'], dtype='<U8'), array(['dairy'], dtype='<U8'), array(['checkout'], dtype='<U8')], [array(['fruit'], dtype='<U8'), array(['dairy'], dtype='<U8'), array(['dairy'], dtype='<U8'), array(['drinks'], dtype='<U8'), array(['drinks'], dtype='<U8')], [array(['drinks'], dtype='<U8'), array(['fruit'], dtype='<U8'), array(['drinks'], dtype='<U8'), array(['drinks'], dtype='<U8'), array(['fruit'], dtype='<U8')], [array(['drinks'], dtype='<U8'), array(['checkout'], dtype='<U8')], [array(['drinks'], dtype='<U8'), array(['checkout'], dtype='<U8')], [array(['drinks'], dtype='<U8'), array(['checkout'], dtype='<U8')], [array(['spices'], dtype='<U8'), array(['drinks'], dtype='<U8'), array(['fruit'], dtype='<U8'), array(['checkout'], dtype='<U8')], [array(['dairy'], dtype='<U8'), array(['checkout'], dtype='<U8')], [array(['checkout'], dtype='<U8')], [array(['checkout'], dtype='<U8')], [array(['checkout'], dtype='<U8')], [array(['fruit'], dtype='<U8'), array(['drinks'], dtype='<U8'), array(['checkout'], dtype='<U8')], [array(['drinks'], dtype='<U8'), array(['fruit'], dtype='<U8'), array(['dairy'], dtype='<U8'), array(['fruit'], dtype='<U8'), array(['dairy'], dtype='<U8')], [array(['fruit'], dtype='<U8'), array(['spices'], dtype='<U8'), array(['checkout'], dtype='<U8')], [array(['checkout'], dtype='<U8')], [array(['checkout'], dtype='<U8')], [array(['checkout'], dtype='<U8')], [array(['checkout'], dtype='<U8')], [array(['fruit'], dtype='<U8'), array(['fruit'], dtype='<U8'), array(['fruit'], dtype='<U8'), array(['dairy'], dtype='<U8'), array(['drinks'], dtype='<U8')], [array(['checkout'], dtype='<U8')], [array(['fruit'], dtype='<U8'), array(['checkout'], dtype='<U8')], [array(['checkout'], dtype='<U8')]]\n",
      "[[array(['drinks'], dtype='<U8'), array(['checkout'], dtype='<U8')], [array(['spices'], dtype='<U8'), array(['fruit'], dtype='<U8'), array(['checkout'], dtype='<U8')], [array(['dairy'], dtype='<U8'), array(['dairy'], dtype='<U8'), array(['dairy'], dtype='<U8'), array(['spices'], dtype='<U8'), array(['fruit'], dtype='<U8')], [array(['drinks'], dtype='<U8'), array(['spices'], dtype='<U8'), array(['dairy'], dtype='<U8'), array(['fruit'], dtype='<U8'), array(['drinks'], dtype='<U8')], [array(['drinks'], dtype='<U8'), array(['checkout'], dtype='<U8')], [array(['fruit'], dtype='<U8'), array(['spices'], dtype='<U8'), array(['fruit'], dtype='<U8'), array(['dairy'], dtype='<U8'), array(['spices'], dtype='<U8')], [array(['checkout'], dtype='<U8')], [array(['checkout'], dtype='<U8')], [array(['spices'], dtype='<U8'), array(['checkout'], dtype='<U8')], [array(['fruit'], dtype='<U8'), array(['checkout'], dtype='<U8')], [array(['checkout'], dtype='<U8')], [array(['drinks'], dtype='<U8'), array(['checkout'], dtype='<U8')], [array(['checkout'], dtype='<U8')], [array(['checkout'], dtype='<U8')], [array(['checkout'], dtype='<U8')], [array(['checkout'], dtype='<U8')], [array(['fruit'], dtype='<U8'), array(['spices'], dtype='<U8'), array(['fruit'], dtype='<U8'), array(['checkout'], dtype='<U8')], [array(['drinks'], dtype='<U8'), array(['checkout'], dtype='<U8')], [array(['checkout'], dtype='<U8')], [array(['dairy'], dtype='<U8'), array(['fruit'], dtype='<U8'), array(['checkout'], dtype='<U8')], [array(['fruit'], dtype='<U8'), array(['fruit'], dtype='<U8'), array(['dairy'], dtype='<U8'), array(['checkout'], dtype='<U8')], [array(['spices'], dtype='<U8'), array(['checkout'], dtype='<U8')], [array(['checkout'], dtype='<U8')], [array(['checkout'], dtype='<U8')], [array(['drinks'], dtype='<U8'), array(['checkout'], dtype='<U8')], [array(['checkout'], dtype='<U8')], [array(['spices'], dtype='<U8'), array(['fruit'], dtype='<U8'), array(['drinks'], dtype='<U8'), array(['dairy'], dtype='<U8'), array(['checkout'], dtype='<U8')], [array(['fruit'], dtype='<U8'), array(['dairy'], dtype='<U8'), array(['dairy'], dtype='<U8'), array(['drinks'], dtype='<U8'), array(['drinks'], dtype='<U8')], [array(['drinks'], dtype='<U8'), array(['fruit'], dtype='<U8'), array(['drinks'], dtype='<U8'), array(['drinks'], dtype='<U8'), array(['fruit'], dtype='<U8')], [array(['drinks'], dtype='<U8'), array(['checkout'], dtype='<U8')], [array(['drinks'], dtype='<U8'), array(['checkout'], dtype='<U8')], [array(['drinks'], dtype='<U8'), array(['checkout'], dtype='<U8')], [array(['spices'], dtype='<U8'), array(['drinks'], dtype='<U8'), array(['fruit'], dtype='<U8'), array(['checkout'], dtype='<U8')], [array(['dairy'], dtype='<U8'), array(['checkout'], dtype='<U8')], [array(['checkout'], dtype='<U8')], [array(['checkout'], dtype='<U8')], [array(['checkout'], dtype='<U8')], [array(['fruit'], dtype='<U8'), array(['drinks'], dtype='<U8'), array(['checkout'], dtype='<U8')], [array(['drinks'], dtype='<U8'), array(['fruit'], dtype='<U8'), array(['dairy'], dtype='<U8'), array(['fruit'], dtype='<U8'), array(['dairy'], dtype='<U8')], [array(['fruit'], dtype='<U8'), array(['spices'], dtype='<U8'), array(['checkout'], dtype='<U8')], [array(['checkout'], dtype='<U8')], [array(['checkout'], dtype='<U8')], [array(['checkout'], dtype='<U8')], [array(['checkout'], dtype='<U8')], [array(['fruit'], dtype='<U8'), array(['fruit'], dtype='<U8'), array(['fruit'], dtype='<U8'), array(['dairy'], dtype='<U8'), array(['drinks'], dtype='<U8')], [array(['checkout'], dtype='<U8')], [array(['fruit'], dtype='<U8'), array(['checkout'], dtype='<U8')], [array(['checkout'], dtype='<U8')], [array(['fruit'], dtype='<U8'), array(['checkout'], dtype='<U8')]]\n",
      "[[array(['drinks'], dtype='<U8'), array(['checkout'], dtype='<U8')], [array(['spices'], dtype='<U8'), array(['fruit'], dtype='<U8'), array(['checkout'], dtype='<U8')], [array(['dairy'], dtype='<U8'), array(['dairy'], dtype='<U8'), array(['dairy'], dtype='<U8'), array(['spices'], dtype='<U8'), array(['fruit'], dtype='<U8')], [array(['drinks'], dtype='<U8'), array(['spices'], dtype='<U8'), array(['dairy'], dtype='<U8'), array(['fruit'], dtype='<U8'), array(['drinks'], dtype='<U8')], [array(['drinks'], dtype='<U8'), array(['checkout'], dtype='<U8')], [array(['fruit'], dtype='<U8'), array(['spices'], dtype='<U8'), array(['fruit'], dtype='<U8'), array(['dairy'], dtype='<U8'), array(['spices'], dtype='<U8')], [array(['checkout'], dtype='<U8')], [array(['checkout'], dtype='<U8')], [array(['spices'], dtype='<U8'), array(['checkout'], dtype='<U8')], [array(['fruit'], dtype='<U8'), array(['checkout'], dtype='<U8')], [array(['checkout'], dtype='<U8')], [array(['drinks'], dtype='<U8'), array(['checkout'], dtype='<U8')], [array(['checkout'], dtype='<U8')], [array(['checkout'], dtype='<U8')], [array(['checkout'], dtype='<U8')], [array(['checkout'], dtype='<U8')], [array(['fruit'], dtype='<U8'), array(['spices'], dtype='<U8'), array(['fruit'], dtype='<U8'), array(['checkout'], dtype='<U8')], [array(['drinks'], dtype='<U8'), array(['checkout'], dtype='<U8')], [array(['checkout'], dtype='<U8')], [array(['dairy'], dtype='<U8'), array(['fruit'], dtype='<U8'), array(['checkout'], dtype='<U8')], [array(['fruit'], dtype='<U8'), array(['fruit'], dtype='<U8'), array(['dairy'], dtype='<U8'), array(['checkout'], dtype='<U8')], [array(['spices'], dtype='<U8'), array(['checkout'], dtype='<U8')], [array(['checkout'], dtype='<U8')], [array(['checkout'], dtype='<U8')], [array(['drinks'], dtype='<U8'), array(['checkout'], dtype='<U8')], [array(['checkout'], dtype='<U8')], [array(['spices'], dtype='<U8'), array(['fruit'], dtype='<U8'), array(['drinks'], dtype='<U8'), array(['dairy'], dtype='<U8'), array(['checkout'], dtype='<U8')], [array(['fruit'], dtype='<U8'), array(['dairy'], dtype='<U8'), array(['dairy'], dtype='<U8'), array(['drinks'], dtype='<U8'), array(['drinks'], dtype='<U8')], [array(['drinks'], dtype='<U8'), array(['fruit'], dtype='<U8'), array(['drinks'], dtype='<U8'), array(['drinks'], dtype='<U8'), array(['fruit'], dtype='<U8')], [array(['drinks'], dtype='<U8'), array(['checkout'], dtype='<U8')], [array(['drinks'], dtype='<U8'), array(['checkout'], dtype='<U8')], [array(['drinks'], dtype='<U8'), array(['checkout'], dtype='<U8')], [array(['spices'], dtype='<U8'), array(['drinks'], dtype='<U8'), array(['fruit'], dtype='<U8'), array(['checkout'], dtype='<U8')], [array(['dairy'], dtype='<U8'), array(['checkout'], dtype='<U8')], [array(['checkout'], dtype='<U8')], [array(['checkout'], dtype='<U8')], [array(['checkout'], dtype='<U8')], [array(['fruit'], dtype='<U8'), array(['drinks'], dtype='<U8'), array(['checkout'], dtype='<U8')], [array(['drinks'], dtype='<U8'), array(['fruit'], dtype='<U8'), array(['dairy'], dtype='<U8'), array(['fruit'], dtype='<U8'), array(['dairy'], dtype='<U8')], [array(['fruit'], dtype='<U8'), array(['spices'], dtype='<U8'), array(['checkout'], dtype='<U8')], [array(['checkout'], dtype='<U8')], [array(['checkout'], dtype='<U8')], [array(['checkout'], dtype='<U8')], [array(['checkout'], dtype='<U8')], [array(['fruit'], dtype='<U8'), array(['fruit'], dtype='<U8'), array(['fruit'], dtype='<U8'), array(['dairy'], dtype='<U8'), array(['drinks'], dtype='<U8')], [array(['checkout'], dtype='<U8')], [array(['fruit'], dtype='<U8'), array(['checkout'], dtype='<U8')], [array(['checkout'], dtype='<U8')], [array(['fruit'], dtype='<U8'), array(['checkout'], dtype='<U8')], [array(['fruit'], dtype='<U8'), array(['drinks'], dtype='<U8'), array(['dairy'], dtype='<U8'), array(['drinks'], dtype='<U8'), array(['spices'], dtype='<U8')]]\n"
     ]
    }
   ],
   "source": [
    "simu_dev_total=simulation_dev(50,5)"
   ]
  },
  {
   "cell_type": "code",
   "execution_count": 66,
   "metadata": {},
   "outputs": [
    {
     "data": {
      "text/plain": [
       "[array(['drinks'], dtype='<U8'), array(['checkout'], dtype='<U8')]"
      ]
     },
     "execution_count": 66,
     "metadata": {},
     "output_type": "execute_result"
    }
   ],
   "source": [
    "#sim_dev_total is a list of lists, with index you can read every simulated customer\n",
    "simu_dev_total[11]"
   ]
  },
  {
   "cell_type": "code",
   "execution_count": null,
   "metadata": {},
   "outputs": [],
   "source": [
    "#visuals to go"
   ]
  }
 ],
 "metadata": {
  "kernelspec": {
   "display_name": "Python 3",
   "language": "python",
   "name": "python3"
  },
  "language_info": {
   "codemirror_mode": {
    "name": "ipython",
    "version": 3
   },
   "file_extension": ".py",
   "mimetype": "text/x-python",
   "name": "python",
   "nbconvert_exporter": "python",
   "pygments_lexer": "ipython3",
   "version": "3.7.6"
  }
 },
 "nbformat": 4,
 "nbformat_minor": 4
}
